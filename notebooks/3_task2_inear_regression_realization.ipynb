{
 "cells": [
  {
   "cell_type": "code",
   "execution_count": 10,
   "metadata": {},
   "outputs": [],
   "source": [
    "import pandas as pd\n",
    "import numpy as np"
   ]
  },
  {
   "cell_type": "markdown",
   "metadata": {},
   "source": [
    "# Реализация линейной регрессии"
   ]
  },
  {
   "cell_type": "code",
   "execution_count": 18,
   "metadata": {},
   "outputs": [],
   "source": [
    "def stochastic_gradient_descent(X, y, W_init, eta=1e-2, \n",
    "                                max_iter=1e4, min_weight_dist=1e-8,\n",
    "                                seed=42, verbose=False):\n",
    "    # Расстояние между векторами весов на соседних итерациях\n",
    "    # инициализируется максимально большим числом\n",
    "    weight_dist = np.inf\n",
    "    \n",
    "    W = W_init\n",
    "    errors = []\n",
    "    iter_num = 0\n",
    "    \n",
    "    np.random.seed(seed)\n",
    "    while weight_dist > min_weight_dist and iter_num < max_iter:\n",
    "        # Псевдослучайный индекс объекта обучающей выборки\n",
    "        random_index = np.random.randint(X.shape[0])\n",
    "        \n",
    "        W_next = 2 * eta * X[random_index].dot(X[random_index].dot(W) - y[random_index]) / X.shape[0]\n",
    "        cur_error = np.mean((y - np.dot(X, W_next))**2)\n",
    "        \n",
    "        # Пересчет расстояния между векторами\n",
    "        weight_dist = np.sqrt(np.sum((W - W_next)**2))\n",
    "        \n",
    "        W = W_next\n",
    "        errors.append(cur_error)\n",
    "        iter_num += 1\n",
    "    \n",
    "    return W, errors"
   ]
  },
  {
   "cell_type": "code",
   "execution_count": 16,
   "metadata": {},
   "outputs": [],
   "source": [
    "class LinearRegression:\n",
    "    def __init__(self):\n",
    "        pass\n",
    "    \n",
    "    def fit(self, X_train, y_train, n_iter=10**5):\n",
    "        W_init = np.zeros(X_train.shape[1])\n",
    "        self.w_, self.errors = stochastic_gradient_descent(X_train, y_train, W_init, max_iter = n_iter)\n",
    "        \n",
    "    def predict(self, X_test):\n",
    "        return np.dot(X_test, self.w_)"
   ]
  }
 ],
 "metadata": {
  "kernelspec": {
   "display_name": "Python 3",
   "language": "python",
   "name": "python3"
  },
  "language_info": {
   "codemirror_mode": {
    "name": "ipython",
    "version": 3
   },
   "file_extension": ".py",
   "mimetype": "text/x-python",
   "name": "python",
   "nbconvert_exporter": "python",
   "pygments_lexer": "ipython3",
   "version": "3.8.5"
  }
 },
 "nbformat": 4,
 "nbformat_minor": 4
}
