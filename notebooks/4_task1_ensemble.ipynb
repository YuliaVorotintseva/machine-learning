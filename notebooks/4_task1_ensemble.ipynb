{
 "cells": [
  {
   "cell_type": "code",
   "execution_count": 2,
   "metadata": {},
   "outputs": [],
   "source": [
    "import numpy as np\n",
    "import pandas as pd\n",
    "from sklearn.ensemble import BaggingClassifier, GradientBoostingClassifier, \\\n",
    "StackingClassifier, BaggingRegressor, GradientBoostingRegressor, StackingRegressor\n",
    "from sklearn.tree import DecisionTreeClassifier, DecisionTreeRegressor\n",
    "from sklearn.metrics import confusion_matrix, classification_report, mean_squared_error, mean_absolute_error\n",
    "from sklearn.model_selection import train_test_split, GridSearchCV\n",
    "from sklearn.preprocessing import StandardScaler\n",
    "\n",
    "import warnings\n",
    "warnings.filterwarnings('ignore')"
   ]
  },
  {
   "cell_type": "markdown",
   "metadata": {},
   "source": [
    "# Classification"
   ]
  },
  {
   "cell_type": "markdown",
   "metadata": {},
   "source": [
    "### Подготовка данных"
   ]
  },
  {
   "cell_type": "code",
   "execution_count": 3,
   "metadata": {},
   "outputs": [],
   "source": [
    "df = pd.read_csv('data/students_preprocessed.csv', sep = ',')\n",
    "students_df = df[list(('school', 'sex', 'age', 'Pstatus', 'studytime', \\\n",
    "                                  'failures', 'schoolsup', 'famsup', 'paid', 'activities', 'higher', \\\n",
    "                                  'internet', 'absences', 'G1', 'G2', 'G3'))]"
   ]
  },
  {
   "cell_type": "code",
   "execution_count": 4,
   "metadata": {},
   "outputs": [
    {
     "name": "stdout",
     "output_type": "stream",
     "text": [
      "<class 'pandas.core.frame.DataFrame'>\n",
      "RangeIndex: 395 entries, 0 to 394\n",
      "Data columns (total 16 columns):\n",
      " #   Column      Non-Null Count  Dtype\n",
      "---  ------      --------------  -----\n",
      " 0   school      395 non-null    int64\n",
      " 1   sex         395 non-null    int64\n",
      " 2   age         395 non-null    int64\n",
      " 3   Pstatus     395 non-null    int64\n",
      " 4   studytime   395 non-null    int64\n",
      " 5   failures    395 non-null    int64\n",
      " 6   schoolsup   395 non-null    int64\n",
      " 7   famsup      395 non-null    int64\n",
      " 8   paid        395 non-null    int64\n",
      " 9   activities  395 non-null    int64\n",
      " 10  higher      395 non-null    int64\n",
      " 11  internet    395 non-null    int64\n",
      " 12  absences    395 non-null    int64\n",
      " 13  G1          395 non-null    int64\n",
      " 14  G2          395 non-null    int64\n",
      " 15  G3          395 non-null    int64\n",
      "dtypes: int64(16)\n",
      "memory usage: 49.5 KB\n"
     ]
    }
   ],
   "source": [
    "students_df.info()"
   ]
  },
  {
   "cell_type": "code",
   "execution_count": 5,
   "metadata": {},
   "outputs": [],
   "source": [
    "X = students_df.drop('G3', axis = 1)\n",
    "y = students_df.G3"
   ]
  },
  {
   "cell_type": "markdown",
   "metadata": {},
   "source": [
    "#### Разбиение данных на обучающую и тестовую выборки"
   ]
  },
  {
   "cell_type": "code",
   "execution_count": 22,
   "metadata": {},
   "outputs": [],
   "source": [
    "(X_train, X_test, y_train, y_test) = train_test_split(X, y, test_size = 0.25)"
   ]
  },
  {
   "cell_type": "code",
   "execution_count": 7,
   "metadata": {},
   "outputs": [],
   "source": [
    "scaler = StandardScaler()\n",
    "scaler.fit(X_train)\n",
    "\n",
    "X_train = scaler.transform(X_train)\n",
    "X_test = scaler.transform(X_test)"
   ]
  },
  {
   "cell_type": "code",
   "execution_count": 8,
   "metadata": {},
   "outputs": [],
   "source": [
    "def print_classification_metrics(estimator, y_test, y_pred):\n",
    "    print(confusion_matrix(y_test, y_pred))\n",
    "    print(classification_report(y_test, y_pred))\n",
    "    print(estimator.score(X_test, y_test))"
   ]
  },
  {
   "cell_type": "markdown",
   "metadata": {},
   "source": [
    "### DTC"
   ]
  },
  {
   "cell_type": "markdown",
   "metadata": {},
   "source": [
    "### Анализ базовой модели DecisionTreeClassifier"
   ]
  },
  {
   "cell_type": "code",
   "execution_count": 23,
   "metadata": {},
   "outputs": [
    {
     "name": "stdout",
     "output_type": "stream",
     "text": [
      "Wall time: 11.8 s\n"
     ]
    },
    {
     "data": {
      "text/plain": [
       "{'max_depth': 3, 'min_samples_leaf': 1, 'min_samples_split': 2}"
      ]
     },
     "execution_count": 23,
     "metadata": {},
     "output_type": "execute_result"
    }
   ],
   "source": [
    "%%time\n",
    "tree_params = {\n",
    "    'max_depth': range(1, 17, 2),\n",
    "    'min_samples_leaf': range(1, 8),\n",
    "    'min_samples_split': range(2, 10, 2)\n",
    "}\n",
    "\n",
    "tree = DecisionTreeClassifier(random_state=0)\n",
    "tree_base = GridSearchCV(tree, tree_params, cv=5).fit(X_train, y_train)\n",
    "tree_base.best_params_"
   ]
  },
  {
   "cell_type": "code",
   "execution_count": 24,
   "metadata": {},
   "outputs": [
    {
     "name": "stdout",
     "output_type": "stream",
     "text": [
      "[[10  0  0  0  0  0  0  0  0  0  0  0  0  0  0]\n",
      " [ 0  0  0  3  0  0  0  0  0  0  0  0  0  0  0]\n",
      " [ 0  0  0  1  0  0  0  0  0  0  0  0  0  0  0]\n",
      " [ 2  0  0  3  0  4  0  0  0  0  0  0  0  0  0]\n",
      " [ 1  0  0  0  0  1  0  0  0  0  0  0  0  0  0]\n",
      " [ 4  0  0  0  0  8  4  0  0  0  0  0  0  0  0]\n",
      " [ 1  0  0  0  0  5 10  0  1  0  0  0  0  0  0]\n",
      " [ 0  0  0  0  0  1  5  0  1  0  0  0  0  0  0]\n",
      " [ 0  0  0  0  0  0  2  0  7  0  1  0  0  0  0]\n",
      " [ 0  0  0  0  0  0  2  0  3  0  6  0  0  0  0]\n",
      " [ 0  0  0  0  0  0  0  0  0  0  7  0  0  0  0]\n",
      " [ 0  0  0  0  0  0  0  0  0  0  2  0  0  0  0]\n",
      " [ 0  0  0  0  0  0  0  0  0  0  1  0  0  0  0]\n",
      " [ 0  0  0  0  0  0  0  0  0  0  0  0  0  1  0]\n",
      " [ 0  0  0  0  0  0  0  0  0  0  0  0  0  2  0]]\n",
      "              precision    recall  f1-score   support\n",
      "\n",
      "           0       0.56      1.00      0.71        10\n",
      "           6       0.00      0.00      0.00         3\n",
      "           7       0.00      0.00      0.00         1\n",
      "           8       0.43      0.33      0.38         9\n",
      "           9       0.00      0.00      0.00         2\n",
      "          10       0.42      0.50      0.46        16\n",
      "          11       0.43      0.59      0.50        17\n",
      "          12       0.00      0.00      0.00         7\n",
      "          13       0.58      0.70      0.64        10\n",
      "          14       0.00      0.00      0.00        11\n",
      "          15       0.41      1.00      0.58         7\n",
      "          16       0.00      0.00      0.00         2\n",
      "          17       0.00      0.00      0.00         1\n",
      "          18       0.33      1.00      0.50         1\n",
      "          19       0.00      0.00      0.00         2\n",
      "\n",
      "    accuracy                           0.46        99\n",
      "   macro avg       0.21      0.34      0.25        99\n",
      "weighted avg       0.33      0.46      0.38        99\n",
      "\n",
      "0.46464646464646464\n"
     ]
    }
   ],
   "source": [
    "print_classification_metrics(tree_base, y_test, tree_base.predict(X_test))"
   ]
  },
  {
   "cell_type": "code",
   "execution_count": 11,
   "metadata": {},
   "outputs": [],
   "source": [
    "ensemble_parameters = {'n_estimators': np.arange(20,101,20),\n",
    "                       'max_features': np.arange(3,24,10)}"
   ]
  },
  {
   "cell_type": "markdown",
   "metadata": {},
   "source": [
    "### BaggingClassifier"
   ]
  },
  {
   "cell_type": "code",
   "execution_count": 25,
   "metadata": {},
   "outputs": [
    {
     "name": "stdout",
     "output_type": "stream",
     "text": [
      "Wall time: 12.1 s\n"
     ]
    },
    {
     "data": {
      "text/plain": [
       "{'max_features': 13, 'n_estimators': 80}"
      ]
     },
     "execution_count": 25,
     "metadata": {},
     "output_type": "execute_result"
    }
   ],
   "source": [
    "%%time\n",
    "bagging = BaggingClassifier(base_estimator=DecisionTreeClassifier(max_depth=tree_base.best_params_['max_depth']))\n",
    "bagging_model = GridSearchCV(bagging, ensemble_parameters).fit(X_train, y_train)\n",
    "bagging_model.best_params_"
   ]
  },
  {
   "cell_type": "code",
   "execution_count": 26,
   "metadata": {},
   "outputs": [
    {
     "name": "stdout",
     "output_type": "stream",
     "text": [
      "[[ 9  0  0  0  0  1  0  0  0  0  0  0  0  0  0]\n",
      " [ 0  3  0  0  0  0  0  0  0  0  0  0  0  0  0]\n",
      " [ 0  0  0  1  0  0  0  0  0  0  0  0  0  0  0]\n",
      " [ 2  1  0  2  0  4  0  0  0  0  0  0  0  0  0]\n",
      " [ 1  0  0  0  0  1  0  0  0  0  0  0  0  0  0]\n",
      " [ 1  0  0  0  0 11  4  0  0  0  0  0  0  0  0]\n",
      " [ 0  0  0  0  0  6  5  5  1  0  0  0  0  0  0]\n",
      " [ 0  0  0  0  0  1  3  2  1  0  0  0  0  0  0]\n",
      " [ 0  0  0  0  0  0  0  2  7  0  1  0  0  0  0]\n",
      " [ 0  0  0  0  0  0  0  2  3  0  6  0  0  0  0]\n",
      " [ 0  0  0  0  0  0  0  0  0  0  7  0  0  0  0]\n",
      " [ 0  0  0  0  0  0  0  0  0  0  2  0  0  0  0]\n",
      " [ 0  0  0  0  0  0  0  0  0  0  1  0  0  0  0]\n",
      " [ 0  0  0  0  0  0  0  0  0  0  0  0  0  1  0]\n",
      " [ 0  0  0  0  0  0  0  0  0  0  0  0  0  2  0]]\n",
      "              precision    recall  f1-score   support\n",
      "\n",
      "           0       0.69      0.90      0.78        10\n",
      "           6       0.75      1.00      0.86         3\n",
      "           7       0.00      0.00      0.00         1\n",
      "           8       0.67      0.22      0.33         9\n",
      "           9       0.00      0.00      0.00         2\n",
      "          10       0.46      0.69      0.55        16\n",
      "          11       0.42      0.29      0.34        17\n",
      "          12       0.18      0.29      0.22         7\n",
      "          13       0.58      0.70      0.64        10\n",
      "          14       0.00      0.00      0.00        11\n",
      "          15       0.41      1.00      0.58         7\n",
      "          16       0.00      0.00      0.00         2\n",
      "          17       0.00      0.00      0.00         1\n",
      "          18       0.33      1.00      0.50         1\n",
      "          19       0.00      0.00      0.00         2\n",
      "\n",
      "    accuracy                           0.47        99\n",
      "   macro avg       0.30      0.41      0.32        99\n",
      "weighted avg       0.40      0.47      0.41        99\n",
      "\n",
      "0.47474747474747475\n"
     ]
    }
   ],
   "source": [
    "print_classification_metrics(bagging_model, y_test, bagging_model.predict(X_test))"
   ]
  },
  {
   "cell_type": "markdown",
   "metadata": {},
   "source": [
    "### GradientBoostingClassifier"
   ]
  },
  {
   "cell_type": "code",
   "execution_count": 27,
   "metadata": {},
   "outputs": [
    {
     "name": "stdout",
     "output_type": "stream",
     "text": [
      "Wall time: 1min 20s\n"
     ]
    },
    {
     "data": {
      "text/plain": [
       "{'max_features': 3, 'n_estimators': 100}"
      ]
     },
     "execution_count": 27,
     "metadata": {},
     "output_type": "execute_result"
    }
   ],
   "source": [
    "%%time\n",
    "gbc = GradientBoostingClassifier()\n",
    "gbc_model = GridSearchCV(gbc, ensemble_parameters).fit(X_train, y_train)\n",
    "gbc_model.best_params_"
   ]
  },
  {
   "cell_type": "code",
   "execution_count": 28,
   "metadata": {},
   "outputs": [
    {
     "name": "stdout",
     "output_type": "stream",
     "text": [
      "[[6 0 0 3 1 0 0 0 0 0 0 0 0 0 0]\n",
      " [0 3 0 0 0 0 0 0 0 0 0 0 0 0 0]\n",
      " [0 0 0 0 0 1 0 0 0 0 0 0 0 0 0]\n",
      " [0 0 1 4 3 1 0 0 0 0 0 0 0 0 0]\n",
      " [1 0 0 0 1 0 0 0 0 0 0 0 0 0 0]\n",
      " [1 0 0 0 3 8 2 2 0 0 0 0 0 0 0]\n",
      " [0 0 0 0 2 1 9 3 2 0 0 0 0 0 0]\n",
      " [0 0 0 0 0 0 3 2 2 0 0 0 0 0 0]\n",
      " [0 0 0 0 0 0 0 2 4 4 0 0 0 0 0]\n",
      " [0 0 0 0 0 0 0 1 4 3 3 0 0 0 0]\n",
      " [0 0 0 0 0 0 0 0 0 0 5 2 0 0 0]\n",
      " [0 0 0 0 0 0 0 0 0 0 0 1 1 0 0]\n",
      " [0 0 0 0 0 0 0 0 0 0 0 1 0 0 0]\n",
      " [0 0 0 0 0 0 0 0 0 0 0 0 0 1 0]\n",
      " [0 0 0 0 0 0 0 0 0 0 0 0 0 2 0]]\n",
      "              precision    recall  f1-score   support\n",
      "\n",
      "           0       0.75      0.60      0.67        10\n",
      "           6       1.00      1.00      1.00         3\n",
      "           7       0.00      0.00      0.00         1\n",
      "           8       0.57      0.44      0.50         9\n",
      "           9       0.10      0.50      0.17         2\n",
      "          10       0.73      0.50      0.59        16\n",
      "          11       0.64      0.53      0.58        17\n",
      "          12       0.20      0.29      0.24         7\n",
      "          13       0.33      0.40      0.36        10\n",
      "          14       0.43      0.27      0.33        11\n",
      "          15       0.62      0.71      0.67         7\n",
      "          16       0.25      0.50      0.33         2\n",
      "          17       0.00      0.00      0.00         1\n",
      "          18       0.33      1.00      0.50         1\n",
      "          19       0.00      0.00      0.00         2\n",
      "\n",
      "    accuracy                           0.47        99\n",
      "   macro avg       0.40      0.45      0.40        99\n",
      "weighted avg       0.54      0.47      0.49        99\n",
      "\n",
      "0.47474747474747475\n"
     ]
    }
   ],
   "source": [
    "print_classification_metrics(gbc_model, y_test, gbc_model.predict(X_test))"
   ]
  },
  {
   "cell_type": "markdown",
   "metadata": {},
   "source": [
    "### StackingClassifier"
   ]
  },
  {
   "cell_type": "code",
   "execution_count": 29,
   "metadata": {},
   "outputs": [
    {
     "name": "stdout",
     "output_type": "stream",
     "text": [
      "Wall time: 28.6 s\n"
     ]
    }
   ],
   "source": [
    "%%time\n",
    "sc_model = StackingClassifier(estimators=[('bag',bagging), ('gbc',gbc)],\n",
    "                           final_estimator=tree_base).fit(X_train, y_train)"
   ]
  },
  {
   "cell_type": "code",
   "execution_count": 30,
   "metadata": {},
   "outputs": [
    {
     "name": "stdout",
     "output_type": "stream",
     "text": [
      "[[3 0 0 5 0 1 1 0 0 0 0 0 0 0 0]\n",
      " [0 1 0 2 0 0 0 0 0 0 0 0 0 0 0]\n",
      " [0 0 0 1 0 0 0 0 0 0 0 0 0 0 0]\n",
      " [0 1 0 4 2 2 0 0 0 0 0 0 0 0 0]\n",
      " [0 0 0 1 0 1 0 0 0 0 0 0 0 0 0]\n",
      " [0 0 0 1 2 6 4 1 0 2 0 0 0 0 0]\n",
      " [0 0 0 0 0 5 5 5 0 2 0 0 0 0 0]\n",
      " [0 0 0 0 0 1 0 5 1 0 0 0 0 0 0]\n",
      " [0 0 0 0 0 0 0 2 5 3 0 0 0 0 0]\n",
      " [0 0 0 0 0 0 0 2 1 7 1 0 0 0 0]\n",
      " [0 0 0 0 0 0 0 0 0 0 7 0 0 0 0]\n",
      " [0 0 0 0 0 0 0 0 0 0 2 0 0 0 0]\n",
      " [0 0 0 0 0 0 0 0 0 0 1 0 0 0 0]\n",
      " [0 0 0 0 0 0 0 0 0 0 0 0 0 1 0]\n",
      " [0 0 0 0 0 0 0 0 0 0 0 0 0 2 0]]\n",
      "              precision    recall  f1-score   support\n",
      "\n",
      "           0       1.00      0.30      0.46        10\n",
      "           6       0.50      0.33      0.40         3\n",
      "           7       0.00      0.00      0.00         1\n",
      "           8       0.29      0.44      0.35         9\n",
      "           9       0.00      0.00      0.00         2\n",
      "          10       0.38      0.38      0.38        16\n",
      "          11       0.50      0.29      0.37        17\n",
      "          12       0.33      0.71      0.45         7\n",
      "          13       0.71      0.50      0.59        10\n",
      "          14       0.50      0.64      0.56        11\n",
      "          15       0.64      1.00      0.78         7\n",
      "          16       0.00      0.00      0.00         2\n",
      "          17       0.00      0.00      0.00         1\n",
      "          18       0.33      1.00      0.50         1\n",
      "          19       0.00      0.00      0.00         2\n",
      "\n",
      "    accuracy                           0.44        99\n",
      "   macro avg       0.35      0.37      0.32        99\n",
      "weighted avg       0.49      0.44      0.43        99\n",
      "\n",
      "0.4444444444444444\n"
     ]
    }
   ],
   "source": [
    "print_classification_metrics(sc_model, y_test, sc_model.predict(X_test))"
   ]
  },
  {
   "cell_type": "markdown",
   "metadata": {},
   "source": [
    "# Regression"
   ]
  },
  {
   "cell_type": "markdown",
   "metadata": {},
   "source": [
    "### Подготовка данных"
   ]
  },
  {
   "cell_type": "code",
   "execution_count": 23,
   "metadata": {},
   "outputs": [],
   "source": [
    "df = pd.read_csv('data/students_preprocessed.csv', sep = ',')\n",
    "students_df = df[list(('school', 'sex', 'age', 'Pstatus', 'studytime', \\\n",
    "                                  'failures', 'schoolsup', 'famsup', 'paid', 'activities', 'higher', \\\n",
    "                                  'internet', 'absences', 'G1', 'G2', 'G3'))]"
   ]
  },
  {
   "cell_type": "code",
   "execution_count": 24,
   "metadata": {},
   "outputs": [],
   "source": [
    "X = students_df.drop('G3', axis = 1)\n",
    "y = students_df.G3"
   ]
  },
  {
   "cell_type": "code",
   "execution_count": 31,
   "metadata": {},
   "outputs": [],
   "source": [
    "(X_train, X_test, y_train, y_test) = train_test_split(X, y, test_size = 0.15)"
   ]
  },
  {
   "cell_type": "code",
   "execution_count": 32,
   "metadata": {},
   "outputs": [],
   "source": [
    "scaler = StandardScaler()\n",
    "scaler.fit(X_train)\n",
    "\n",
    "X_train = scaler.transform(X_train)\n",
    "X_test = scaler.transform(X_test)"
   ]
  },
  {
   "cell_type": "code",
   "execution_count": 33,
   "metadata": {},
   "outputs": [],
   "source": [
    "def get_regression_metrics(estimator, y_test, y_pred):\n",
    "    print(f\"coefficient of determination: {estimator.score(X_train, y_train)}\")\n",
    "    print(f'MSE: {mean_squared_error(y_test, y_pred)}')\n",
    "    print(f'RMSE: {mean_squared_error(y_test, y_pred, squared=False)}')\n",
    "    print(f'MAE: {mean_absolute_error(y_test, y_pred)}')"
   ]
  },
  {
   "cell_type": "markdown",
   "metadata": {},
   "source": [
    "### DTR"
   ]
  },
  {
   "cell_type": "markdown",
   "metadata": {},
   "source": [
    "### Анализ базовой модели DecisionTreeRegressor"
   ]
  },
  {
   "cell_type": "code",
   "execution_count": 34,
   "metadata": {},
   "outputs": [
    {
     "name": "stdout",
     "output_type": "stream",
     "text": [
      "Wall time: 5.02 s\n"
     ]
    },
    {
     "data": {
      "text/plain": [
       "{'max_depth': 9, 'min_samples_leaf': 2, 'min_samples_split': 8}"
      ]
     },
     "execution_count": 34,
     "metadata": {},
     "output_type": "execute_result"
    }
   ],
   "source": [
    "%%time\n",
    "tr = DecisionTreeRegressor(random_state=0).fit(X_train, y_train)\n",
    "tr_base = GridSearchCV(tr, tree_params, cv=5).fit(X_train, y_train)\n",
    "tr_base.best_params_"
   ]
  },
  {
   "cell_type": "code",
   "execution_count": 35,
   "metadata": {},
   "outputs": [
    {
     "name": "stdout",
     "output_type": "stream",
     "text": [
      "coefficient of determination: 0.9532906378863759\n",
      "MSE: 1.3830036356140254\n",
      "RMSE: 1.1760117497771974\n",
      "MAE: 0.81989898989899\n"
     ]
    }
   ],
   "source": [
    "get_regression_metrics(tr_base, y_test, tr_base.predict(X_test))"
   ]
  },
  {
   "cell_type": "markdown",
   "metadata": {},
   "source": [
    "### BaggingRegressor"
   ]
  },
  {
   "cell_type": "code",
   "execution_count": 36,
   "metadata": {},
   "outputs": [
    {
     "name": "stdout",
     "output_type": "stream",
     "text": [
      "Wall time: 12.3 s\n"
     ]
    },
    {
     "data": {
      "text/plain": [
       "{'max_features': 13, 'n_estimators': 100}"
      ]
     },
     "execution_count": 36,
     "metadata": {},
     "output_type": "execute_result"
    }
   ],
   "source": [
    "%%time\n",
    "br = BaggingRegressor(base_estimator=DecisionTreeRegressor(max_depth=tr_base.best_params_['max_depth']))\n",
    "br_model = GridSearchCV(br, ensemble_parameters).fit(X_train, y_train)\n",
    "br_model.best_params_"
   ]
  },
  {
   "cell_type": "code",
   "execution_count": 37,
   "metadata": {},
   "outputs": [
    {
     "name": "stdout",
     "output_type": "stream",
     "text": [
      "coefficient of determination: 0.9781124758432185\n",
      "MSE: 1.1012516243764934\n",
      "RMSE: 1.0494053670419707\n",
      "MAE: 0.7502030676091604\n"
     ]
    }
   ],
   "source": [
    "get_regression_metrics(br_model, y_test, br_model.predict(X_test))"
   ]
  },
  {
   "cell_type": "markdown",
   "metadata": {},
   "source": [
    "### GradientBoostingRegressor"
   ]
  },
  {
   "cell_type": "code",
   "execution_count": 38,
   "metadata": {},
   "outputs": [
    {
     "name": "stdout",
     "output_type": "stream",
     "text": [
      "Wall time: 2.68 s\n"
     ]
    },
    {
     "data": {
      "text/plain": [
       "{'max_features': 13, 'n_estimators': 80}"
      ]
     },
     "execution_count": 38,
     "metadata": {},
     "output_type": "execute_result"
    }
   ],
   "source": [
    "%%time\n",
    "gbr = GradientBoostingRegressor()\n",
    "gbr_model = GridSearchCV(gbr, ensemble_parameters).fit(X_train, y_train)\n",
    "gbr_model.best_params_"
   ]
  },
  {
   "cell_type": "code",
   "execution_count": 39,
   "metadata": {},
   "outputs": [
    {
     "name": "stdout",
     "output_type": "stream",
     "text": [
      "coefficient of determination: 0.9459987702263646\n",
      "MSE: 1.7150369182548448\n",
      "RMSE: 1.3095941807502218\n",
      "MAE: 0.95679223856274\n"
     ]
    }
   ],
   "source": [
    "get_regression_metrics(gbr_model, y_test, gbr_model.predict(X_test))"
   ]
  },
  {
   "cell_type": "markdown",
   "metadata": {},
   "source": [
    "### StackingRegressor"
   ]
  },
  {
   "cell_type": "code",
   "execution_count": 40,
   "metadata": {},
   "outputs": [
    {
     "name": "stdout",
     "output_type": "stream",
     "text": [
      "Wall time: 4.67 s\n"
     ]
    }
   ],
   "source": [
    "%%time\n",
    "sr = StackingRegressor(estimators=[('br',br), ('gbr',gbr)],\n",
    "                           final_estimator=tr_base).fit(X_train, y_train)"
   ]
  },
  {
   "cell_type": "code",
   "execution_count": 41,
   "metadata": {},
   "outputs": [
    {
     "name": "stdout",
     "output_type": "stream",
     "text": [
      "coefficient of determination: 0.9329813392947637\n",
      "MSE: 3.2800049134992406\n",
      "RMSE: 1.811078384140024\n",
      "MAE: 1.1215765755912668\n"
     ]
    }
   ],
   "source": [
    "get_regression_metrics(sr, y_test, sr.predict(X_test))"
   ]
  },
  {
   "cell_type": "markdown",
   "metadata": {},
   "source": [
    "### Выводы"
   ]
  },
  {
   "cell_type": "markdown",
   "metadata": {},
   "source": [
    "Для обучения композиционных моделей необходимо больше времени, но использование композиций алгоритмов позволяет повысить качество моделей."
   ]
  },
  {
   "cell_type": "code",
   "execution_count": null,
   "metadata": {},
   "outputs": [],
   "source": []
  }
 ],
 "metadata": {
  "kernelspec": {
   "display_name": "Python 3",
   "language": "python",
   "name": "python3"
  },
  "language_info": {
   "codemirror_mode": {
    "name": "ipython",
    "version": 3
   },
   "file_extension": ".py",
   "mimetype": "text/x-python",
   "name": "python",
   "nbconvert_exporter": "python",
   "pygments_lexer": "ipython3",
   "version": "3.8.5"
  }
 },
 "nbformat": 4,
 "nbformat_minor": 4
}
