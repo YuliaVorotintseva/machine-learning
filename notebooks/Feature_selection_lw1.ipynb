{
  "nbformat": 4,
  "nbformat_minor": 0,
  "metadata": {
    "colab": {
      "name": "Feature_selection_lw1.ipynb",
      "provenance": [],
      "collapsed_sections": []
    },
    "kernelspec": {
      "name": "python3",
      "display_name": "Python 3"
    },
    "language_info": {
      "name": "python"
    }
  },
  "cells": [
    {
      "cell_type": "code",
      "metadata": {
        "id": "DpYVmH6gjVDd"
      },
      "source": [
        "import pandas as pd\n",
        "import numpy as np\n",
        "\n",
        "from sklearn.preprocessing import StandardScaler, MinMaxScaler\n",
        "from sklearn.model_selection import train_test_split, cross_validate, GridSearchCV\n",
        "from sklearn.metrics import classification_report, confusion_matrix\n",
        "from sklearn.neighbors import KNeighborsClassifier\n",
        "from sklearn.linear_model import LogisticRegression\n",
        "from sklearn import tree, naive_bayes, svm\n",
        "\n",
        "from sklearn.feature_selection import SelectKBest, chi2, RFE\n",
        "from sklearn.decomposition import PCA\n",
        "from sklearn.ensemble import ExtraTreesClassifier "
      ],
      "execution_count": null,
      "outputs": []
    },
    {
      "cell_type": "markdown",
      "metadata": {
        "id": "4XN3J4Noni36"
      },
      "source": [
        "#Подготовка и нормализация данных"
      ]
    },
    {
      "cell_type": "code",
      "metadata": {
        "id": "8FEu_HZAnoMH"
      },
      "source": [
        "df = pd.read_csv('data/students_preprocessed.csv', sep = ',')\n",
        "students_df = df[list(('school', 'sex', 'age', 'Pstatus', 'studytime', \\\n",
        "                                  'failures', 'schoolsup', 'famsup', 'paid', 'activities', 'higher', \\\n",
        "                                  'internet', 'absences', 'G1', 'G2', 'G3'))]"
      ],
      "execution_count": null,
      "outputs": []
    },
    {
      "cell_type": "code",
      "metadata": {
        "colab": {
          "base_uri": "https://localhost:8080/"
        },
        "id": "II90YHXWynsC",
        "outputId": "39bf3b46-7720-45fd-b986-ce7c1271dfae"
      },
      "source": [
        "students_df.info()"
      ],
      "execution_count": null,
      "outputs": [
        {
          "output_type": "stream",
          "name": "stdout",
          "text": [
            "<class 'pandas.core.frame.DataFrame'>\n",
            "RangeIndex: 395 entries, 0 to 394\n",
            "Data columns (total 16 columns):\n",
            " #   Column      Non-Null Count  Dtype\n",
            "---  ------      --------------  -----\n",
            " 0   school      395 non-null    int64\n",
            " 1   sex         395 non-null    int64\n",
            " 2   age         395 non-null    int64\n",
            " 3   Pstatus     395 non-null    int64\n",
            " 4   studytime   395 non-null    int64\n",
            " 5   failures    395 non-null    int64\n",
            " 6   schoolsup   395 non-null    int64\n",
            " 7   famsup      395 non-null    int64\n",
            " 8   paid        395 non-null    int64\n",
            " 9   activities  395 non-null    int64\n",
            " 10  higher      395 non-null    int64\n",
            " 11  internet    395 non-null    int64\n",
            " 12  absences    395 non-null    int64\n",
            " 13  G1          395 non-null    int64\n",
            " 14  G2          395 non-null    int64\n",
            " 15  G3          395 non-null    int64\n",
            "dtypes: int64(16)\n",
            "memory usage: 49.5 KB\n"
          ]
        }
      ]
    },
    {
      "cell_type": "code",
      "metadata": {
        "id": "MbetGhfrnx_e"
      },
      "source": [
        "X = students_df.drop('G3', axis = 1)\n",
        "y = students_df.G3"
      ],
      "execution_count": null,
      "outputs": []
    },
    {
      "cell_type": "code",
      "metadata": {
        "id": "94bvG7bkn2mC"
      },
      "source": [
        "(X_train, X_test, y_train, y_test) = train_test_split(X, y, test_size = 0.2)"
      ],
      "execution_count": null,
      "outputs": []
    },
    {
      "cell_type": "code",
      "metadata": {
        "id": "ns3RH6drn5fe"
      },
      "source": [
        "scaler = StandardScaler()\n",
        "scaler.fit(X_train)\n",
        "\n",
        "X_train = scaler.transform(X_train)\n",
        "X_test = scaler.transform(X_test)"
      ],
      "execution_count": null,
      "outputs": []
    },
    {
      "cell_type": "code",
      "metadata": {
        "id": "EkecgCsIy_Ab"
      },
      "source": [
        "minmax_scaler = MinMaxScaler()\n",
        "minmax_scaler.fit(X_train)\n",
        "X_train_positive = minmax_scaler.transform(X_train)\n",
        "X_test_positive = minmax_scaler.transform(X_test)"
      ],
      "execution_count": null,
      "outputs": []
    },
    {
      "cell_type": "markdown",
      "metadata": {
        "id": "OmH-Jc99oU7p"
      },
      "source": [
        "#1. Одномерный отбор признаков"
      ]
    },
    {
      "cell_type": "markdown",
      "metadata": {
        "id": "p3AQcM3Jz7eF"
      },
      "source": [
        "Признаки, имеющие наиболее выраженную взаимосвязь с целевой переменной, могут быть отобраны с помощью статистических критериев. Библиотека scikit-learn содержит класс SelectKBest, реализующий одномерный отбор признаков (univariate feature selection). Этот класс можно применять совместно с различными статистическими критериями для отбора заданного количества признаков.\n",
        "\n",
        "В примере ниже используется критерий хи-квадрат (chi-squared test) для неотрицательных признаков, чтобы отобрать 4 лучших признака."
      ]
    },
    {
      "cell_type": "code",
      "metadata": {
        "id": "38qSPd3ooWOO",
        "colab": {
          "base_uri": "https://localhost:8080/"
        },
        "outputId": "57a0e2d7-95ee-47cc-9522-5cf144511d66"
      },
      "source": [
        "fit = SelectKBest(score_func=chi2, k=4).fit(X_train_positive, y_train)\n",
        "\n",
        "np.set_printoptions(precision=3)\n",
        "features = fit.transform(X_train_positive)\n",
        "X_train_K_best = fit.transform(X_train_positive)\n",
        "X_test_K_best = fit.transform(X_test_positive)\n",
        "\n",
        "print(fit.scores_)"
      ],
      "execution_count": null,
      "outputs": [
        {
          "output_type": "stream",
          "name": "stdout",
          "text": [
            "[10.387  7.779  3.517 16.809  4.358 41.915 22.013  6.728 14.857  6.134\n",
            "  0.528  2.314  7.723 21.853 18.459]\n"
          ]
        }
      ]
    },
    {
      "cell_type": "markdown",
      "metadata": {
        "id": "OGJyB_s5rd1X"
      },
      "source": [
        "#2. Рекурсивное исключение признаков"
      ]
    },
    {
      "cell_type": "markdown",
      "metadata": {
        "id": "fY5zeM3504hC"
      },
      "source": [
        "Метод рекурсивного исключения признаков (recursive feature elimination, RFE) реализует следующий алгоритм: модель обучается на исходном наборе признаков и оценивает их значимость, затем исключается один или несколько наименее значимых признаков, модель обучается на оставшихся признаках, и так далее, пока не останется заданное количество лучших признаков. В документации scikit-learn вы можете подробнее прочитать о классе RFE.\n",
        "\n",
        "В примере ниже метод RFE применяется в сочетании с логистической регрессией для отбора 3-х лучших признаков. Для совместного использования с RFE можно выбирать различные модели, важно лишь, чтобы они были достаточно эффективны и совместимы с RFE."
      ]
    },
    {
      "cell_type": "code",
      "metadata": {
        "colab": {
          "base_uri": "https://localhost:8080/"
        },
        "id": "c2dKS65Brf53",
        "outputId": "8c005aca-101b-4215-e1b2-89dd4679840c"
      },
      "source": [
        "fit = RFE(LogisticRegression(), 3).fit(X_train, y_train)\n",
        "\n",
        "X_train_recursive = fit.transform(X_train_positive)\n",
        "X_test_recursive = fit.transform(X_test_positive)\n",
        "\n",
        "print('Num features: {}'.format(fit.n_features_))\n",
        "print('Selected Features: {}'.format(fit.support_))\n",
        "print('Feature Ranking: {}'.format(fit.ranking_))"
      ],
      "execution_count": null,
      "outputs": [
        {
          "output_type": "stream",
          "name": "stdout",
          "text": [
            "Num features: 3\n",
            "Selected Features: [False False False False False False False False False False False False\n",
            "  True  True  True]\n",
            "Feature Ranking: [ 9 12  7  6  3  2  8  5  4 11 13 10  1  1  1]\n"
          ]
        }
      ]
    },
    {
      "cell_type": "markdown",
      "metadata": {
        "id": "WrOS0bRir838"
      },
      "source": [
        "#3. Метод главных компонент"
      ]
    },
    {
      "cell_type": "markdown",
      "metadata": {
        "id": "QUfqEHu014V8"
      },
      "source": [
        "Метод главных компонент (principal component analysis, PCA) позволяет уменьшить размерность данных с помощью преобразования на основе линейной алгебры. Пользователь может задать требуемое количество измерений (главных компонент) в результирующих данных.\n",
        "\n",
        "В примере ниже мы выделяем 3 главных компоненты с помощью PCA."
      ]
    },
    {
      "cell_type": "code",
      "metadata": {
        "colab": {
          "base_uri": "https://localhost:8080/"
        },
        "id": "22l2GW_ssAr6",
        "outputId": "e7fe0fbb-1e02-4f88-a7fc-877c3a14acb6"
      },
      "source": [
        "fit = PCA(n_components=3).fit(X_train)\n",
        "features = fit.transform(X_train)\n",
        "\n",
        "X_train_pca = fit.transform(X_train_positive)\n",
        "X_test_pca = fit.transform(X_test_positive)\n",
        "\n",
        "print(fit.explained_variance_ratio_)\n",
        "print(features[0:5,:])"
      ],
      "execution_count": null,
      "outputs": [
        {
          "output_type": "stream",
          "name": "stdout",
          "text": [
            "[0.157 0.125 0.1  ]\n",
            "[[ 3.825  1.881  1.172]\n",
            " [ 0.065 -0.753 -1.222]\n",
            " [ 0.237 -1.884 -1.453]\n",
            " [ 0.289 -0.898  0.461]\n",
            " [-1.256  1.321  0.248]]\n"
          ]
        }
      ]
    },
    {
      "cell_type": "markdown",
      "metadata": {
        "id": "yuLWL5uJsPlp"
      },
      "source": [
        "#4. Отбор на основе важности признаков"
      ]
    },
    {
      "cell_type": "markdown",
      "metadata": {
        "id": "AagRh4UU2d6n"
      },
      "source": [
        "Ансамблевые алгоритмы на основе деревьев решений, такие как случайный лес (random forest), позволяют оценить важность признаков.\n",
        "\n",
        "В представленном ниже примере мы обучаем классификатор ExtraTreesClassifier, чтобы с его помощью определить важность признаков. Подробнее о классе ExtraTreesClassifier можно узнать из документации scikit-learn."
      ]
    },
    {
      "cell_type": "code",
      "metadata": {
        "colab": {
          "base_uri": "https://localhost:8080/"
        },
        "id": "2QJS0-ZisS0M",
        "outputId": "b8b5abd7-d586-4200-9c14-fa99caa8fa45"
      },
      "source": [
        "fit = ExtraTreesClassifier().fit(X_train, y_train)\n",
        "print(fit.feature_importances_)"
      ],
      "execution_count": null,
      "outputs": [
        {
          "output_type": "stream",
          "name": "stdout",
          "text": [
            "[0.02  0.045 0.093 0.023 0.07  0.044 0.023 0.046 0.034 0.049 0.008 0.032\n",
            " 0.127 0.155 0.231]\n"
          ]
        }
      ]
    },
    {
      "cell_type": "code",
      "metadata": {
        "id": "DTqbABeF8IQV"
      },
      "source": [
        "important = fit.feature_importances_ > 0.1\n",
        "X_train_etc = X_train_positive[:, important]\n",
        "X_test_etc = X_test_positive[:, important]"
      ],
      "execution_count": null,
      "outputs": []
    },
    {
      "cell_type": "markdown",
      "metadata": {
        "id": "txsTvpF72-vv"
      },
      "source": [
        "#Обучение модели"
      ]
    },
    {
      "cell_type": "code",
      "metadata": {
        "id": "jYyrGnsq4fZj"
      },
      "source": [
        "def fit_predict(X_train, X_test, y_train, y_test, model, init_parameters={}, **parameters):\n",
        "  classifier = model(**init_parameters)\n",
        "  clf_model = GridSearchCV(classifier, parameters)\n",
        "  clf_model.fit(X_train, y_train)\n",
        "  y_pred = clf_model.best_estimator_.predict(X_test)\n",
        "\n",
        "  print('GridSearchCV - best estimator: {}'.format(clf_model.best_estimator_))\n",
        "  print('best parameters: {}'.format(clf_model.best_params_))\n",
        "  \n",
        "  print(confusion_matrix(y_test, y_pred))\n",
        "  print(classification_report(y_test, y_pred))"
      ],
      "execution_count": null,
      "outputs": []
    },
    {
      "cell_type": "code",
      "metadata": {
        "id": "5FggLpXo6fXR"
      },
      "source": [
        "def selections_features(model, init_parameters={}, **parameters):\n",
        "  print('Без отбора признаков\\n')\n",
        "  fit_predict(X_train, X_test, y_train, y_test, model=model, init_parameters=init_parameters, **parameters)\n",
        "\n",
        "  print('\\n\\n\\nОдномерный отбор признаков\\n')\n",
        "  fit_predict(X_train_K_best, X_test_K_best, y_train, y_test, model=model, init_parameters=init_parameters, **parameters)\n",
        "\n",
        "  print('\\n\\n\\nРекурсивное исключение признаков\\n')\n",
        "  fit_predict(X_train_recursive, X_test_recursive, y_train, y_test, model=model, init_parameters=init_parameters, **parameters)\n",
        "\n",
        "  print('\\n\\n\\nМетод главных компонент\\n')\n",
        "  fit_predict(X_train_pca, X_test_pca, y_train, y_test, model=model, init_parameters=init_parameters, **parameters)\n",
        "\n",
        "  print('\\n\\n\\nОтбор на основе важности признаков\\n')\n",
        "  fit_predict(X_train_etc, X_test_etc, y_train, y_test, model=model, init_parameters=init_parameters, **parameters)"
      ],
      "execution_count": null,
      "outputs": []
    },
    {
      "cell_type": "markdown",
      "metadata": {
        "id": "vy1tzKls39nq"
      },
      "source": [
        "#Decision Tree Classifier (DTC)"
      ]
    },
    {
      "cell_type": "code",
      "metadata": {
        "colab": {
          "base_uri": "https://localhost:8080/"
        },
        "id": "KRymxHsq3A0C",
        "outputId": "35e58037-62f0-42dd-e603-499f66ae0b74"
      },
      "source": [
        "parameters_dtc = {\n",
        "    'max_depth': [1, 3, 5, 10, 30],\n",
        "    'min_samples_split': [2, 3, 5, 8]\n",
        "}\n",
        "selections_features(model=tree.DecisionTreeClassifier, **parameters_dtc)"
      ],
      "execution_count": null,
      "outputs": [
        {
          "output_type": "stream",
          "name": "stdout",
          "text": [
            "Без отбора признаков\n",
            "\n",
            "GridSearchCV - best estimator: DecisionTreeClassifier(ccp_alpha=0.0, class_weight=None, criterion='gini',\n",
            "                       max_depth=5, max_features=None, max_leaf_nodes=None,\n",
            "                       min_impurity_decrease=0.0, min_impurity_split=None,\n",
            "                       min_samples_leaf=1, min_samples_split=5,\n",
            "                       min_weight_fraction_leaf=0.0, presort='deprecated',\n",
            "                       random_state=None, splitter='best')\n",
            "best parameters: {'max_depth': 5, 'min_samples_split': 5}\n",
            "[[6 0 0 0 0 0 0 0 0 0 0 0 0 0 0 0]\n",
            " [0 1 0 0 0 0 0 0 0 0 0 0 0 0 0 0]\n",
            " [0 0 2 0 2 0 0 0 0 0 0 0 0 0 0 0]\n",
            " [0 0 1 0 1 0 0 0 0 0 0 0 0 0 0 0]\n",
            " [1 0 0 0 2 1 2 0 0 0 0 0 0 0 0 0]\n",
            " [0 0 0 0 2 1 1 0 0 0 0 0 0 0 0 0]\n",
            " [0 0 0 0 1 2 4 5 0 0 0 0 0 0 0 0]\n",
            " [0 0 0 0 0 0 3 1 2 2 0 0 0 0 0 0]\n",
            " [0 0 0 0 0 0 1 0 4 2 2 0 0 0 0 0]\n",
            " [0 0 0 0 0 0 0 0 1 3 0 0 0 0 0 0]\n",
            " [0 0 0 0 0 0 0 0 1 2 3 2 0 0 0 0]\n",
            " [0 0 0 0 0 0 0 0 0 0 0 6 1 0 0 0]\n",
            " [0 0 0 0 0 0 0 0 0 0 0 2 2 0 0 0]\n",
            " [0 0 0 0 0 0 0 0 0 0 0 0 1 0 0 0]\n",
            " [0 0 0 0 0 0 0 0 0 0 0 0 0 0 2 0]\n",
            " [0 0 0 0 0 0 0 0 0 0 0 0 0 0 1 0]]\n"
          ]
        },
        {
          "output_type": "stream",
          "name": "stderr",
          "text": [
            "/usr/local/lib/python3.7/dist-packages/sklearn/model_selection/_split.py:667: UserWarning: The least populated class in y has only 1 members, which is less than n_splits=5.\n",
            "  % (min_groups, self.n_splits)), UserWarning)\n",
            "/usr/local/lib/python3.7/dist-packages/sklearn/metrics/_classification.py:1272: UndefinedMetricWarning: Precision and F-score are ill-defined and being set to 0.0 in labels with no predicted samples. Use `zero_division` parameter to control this behavior.\n",
            "  _warn_prf(average, modifier, msg_start, len(result))\n",
            "/usr/local/lib/python3.7/dist-packages/sklearn/model_selection/_split.py:667: UserWarning: The least populated class in y has only 1 members, which is less than n_splits=5.\n",
            "  % (min_groups, self.n_splits)), UserWarning)\n",
            "/usr/local/lib/python3.7/dist-packages/sklearn/metrics/_classification.py:1272: UndefinedMetricWarning: Precision and F-score are ill-defined and being set to 0.0 in labels with no predicted samples. Use `zero_division` parameter to control this behavior.\n",
            "  _warn_prf(average, modifier, msg_start, len(result))\n",
            "/usr/local/lib/python3.7/dist-packages/sklearn/model_selection/_split.py:667: UserWarning: The least populated class in y has only 1 members, which is less than n_splits=5.\n",
            "  % (min_groups, self.n_splits)), UserWarning)\n"
          ]
        },
        {
          "output_type": "stream",
          "name": "stdout",
          "text": [
            "              precision    recall  f1-score   support\n",
            "\n",
            "           0       0.86      1.00      0.92         6\n",
            "           5       1.00      1.00      1.00         1\n",
            "           6       0.67      0.50      0.57         4\n",
            "           7       0.00      0.00      0.00         2\n",
            "           8       0.25      0.33      0.29         6\n",
            "           9       0.25      0.25      0.25         4\n",
            "          10       0.36      0.33      0.35        12\n",
            "          11       0.17      0.12      0.14         8\n",
            "          12       0.50      0.44      0.47         9\n",
            "          13       0.33      0.75      0.46         4\n",
            "          14       0.60      0.38      0.46         8\n",
            "          15       0.60      0.86      0.71         7\n",
            "          16       0.50      0.50      0.50         4\n",
            "          17       0.00      0.00      0.00         1\n",
            "          18       0.67      1.00      0.80         2\n",
            "          19       0.00      0.00      0.00         1\n",
            "\n",
            "    accuracy                           0.47        79\n",
            "   macro avg       0.42      0.47      0.43        79\n",
            "weighted avg       0.45      0.47      0.45        79\n",
            "\n",
            "\n",
            "\n",
            "\n",
            "Одномерный отбор признаков\n",
            "\n",
            "GridSearchCV - best estimator: DecisionTreeClassifier(ccp_alpha=0.0, class_weight=None, criterion='gini',\n",
            "                       max_depth=5, max_features=None, max_leaf_nodes=None,\n",
            "                       min_impurity_decrease=0.0, min_impurity_split=None,\n",
            "                       min_samples_leaf=1, min_samples_split=2,\n",
            "                       min_weight_fraction_leaf=0.0, presort='deprecated',\n",
            "                       random_state=None, splitter='best')\n",
            "best parameters: {'max_depth': 5, 'min_samples_split': 2}\n",
            "[[5 0 0 0 0 1 0 0 0 0 0 0 0 0 0 0]\n",
            " [1 0 0 0 0 0 0 0 0 0 0 0 0 0 0 0]\n",
            " [0 0 3 0 1 0 0 0 0 0 0 0 0 0 0 0]\n",
            " [0 0 2 0 0 0 0 0 0 0 0 0 0 0 0 0]\n",
            " [2 0 1 0 2 1 0 0 0 0 0 0 0 0 0 0]\n",
            " [0 0 0 1 1 1 1 0 0 0 0 0 0 0 0 0]\n",
            " [0 0 0 1 0 2 6 3 0 0 0 0 0 0 0 0]\n",
            " [0 0 0 0 0 0 2 5 1 0 0 0 0 0 0 0]\n",
            " [0 0 0 0 0 0 0 3 3 3 0 0 0 0 0 0]\n",
            " [0 0 0 0 0 0 0 0 2 2 0 0 0 0 0 0]\n",
            " [0 0 0 0 0 0 0 0 0 4 4 0 0 0 0 0]\n",
            " [0 0 0 0 0 0 0 0 0 0 1 5 1 0 0 0]\n",
            " [0 0 0 0 0 0 0 0 0 0 0 2 2 0 0 0]\n",
            " [0 0 0 0 0 0 0 0 0 0 0 0 1 0 0 0]\n",
            " [0 0 0 0 0 0 0 0 0 0 0 0 0 0 2 0]\n",
            " [0 0 0 0 0 0 0 0 0 0 0 0 0 0 1 0]]\n",
            "              precision    recall  f1-score   support\n",
            "\n",
            "           0       0.62      0.83      0.71         6\n",
            "           5       0.00      0.00      0.00         1\n",
            "           6       0.50      0.75      0.60         4\n",
            "           7       0.00      0.00      0.00         2\n",
            "           8       0.50      0.33      0.40         6\n",
            "           9       0.20      0.25      0.22         4\n",
            "          10       0.67      0.50      0.57        12\n",
            "          11       0.45      0.62      0.53         8\n",
            "          12       0.50      0.33      0.40         9\n",
            "          13       0.22      0.50      0.31         4\n",
            "          14       0.80      0.50      0.62         8\n",
            "          15       0.71      0.71      0.71         7\n",
            "          16       0.50      0.50      0.50         4\n",
            "          17       0.00      0.00      0.00         1\n",
            "          18       0.67      1.00      0.80         2\n",
            "          19       0.00      0.00      0.00         1\n",
            "\n",
            "    accuracy                           0.51        79\n",
            "   macro avg       0.40      0.43      0.40        79\n",
            "weighted avg       0.52      0.51      0.50        79\n",
            "\n",
            "\n",
            "\n",
            "\n",
            "Рекурсивное исключение признаков\n",
            "\n",
            "GridSearchCV - best estimator: DecisionTreeClassifier(ccp_alpha=0.0, class_weight=None, criterion='gini',\n",
            "                       max_depth=5, max_features=None, max_leaf_nodes=None,\n",
            "                       min_impurity_decrease=0.0, min_impurity_split=None,\n",
            "                       min_samples_leaf=1, min_samples_split=2,\n",
            "                       min_weight_fraction_leaf=0.0, presort='deprecated',\n",
            "                       random_state=None, splitter='best')\n",
            "best parameters: {'max_depth': 5, 'min_samples_split': 2}\n",
            "[[6 0 0 0 0 0 0 0 0 0 0 0 0 0 0 0]\n",
            " [0 1 0 0 0 0 0 0 0 0 0 0 0 0 0 0]\n",
            " [0 0 2 0 2 0 0 0 0 0 0 0 0 0 0 0]\n",
            " [0 0 1 0 1 0 0 0 0 0 0 0 0 0 0 0]\n",
            " [1 0 0 0 2 1 2 0 0 0 0 0 0 0 0 0]\n",
            " [0 0 0 0 2 1 1 0 0 0 0 0 0 0 0 0]\n",
            " [2 0 0 0 1 2 5 2 0 0 0 0 0 0 0 0]\n",
            " [0 0 0 0 0 0 3 1 2 2 0 0 0 0 0 0]\n",
            " [0 0 0 0 0 0 0 1 4 4 0 0 0 0 0 0]\n",
            " [0 0 0 0 0 0 0 0 1 3 0 0 0 0 0 0]\n",
            " [0 0 0 0 0 0 0 0 0 4 2 2 0 0 0 0]\n",
            " [0 0 0 0 0 0 0 0 0 0 0 6 1 0 0 0]\n",
            " [0 0 0 0 0 0 0 0 0 0 0 2 2 0 0 0]\n",
            " [0 0 0 0 0 0 0 0 0 0 0 0 1 0 0 0]\n",
            " [0 0 0 0 0 0 0 0 0 0 0 0 0 0 2 0]\n",
            " [0 0 0 0 0 0 0 0 0 0 0 0 0 0 1 0]]\n",
            "              precision    recall  f1-score   support\n",
            "\n",
            "           0       0.67      1.00      0.80         6\n",
            "           5       1.00      1.00      1.00         1\n",
            "           6       0.67      0.50      0.57         4\n",
            "           7       0.00      0.00      0.00         2\n",
            "           8       0.25      0.33      0.29         6\n",
            "           9       0.25      0.25      0.25         4\n",
            "          10       0.45      0.42      0.43        12\n",
            "          11       0.25      0.12      0.17         8\n",
            "          12       0.57      0.44      0.50         9\n",
            "          13       0.23      0.75      0.35         4\n",
            "          14       1.00      0.25      0.40         8\n",
            "          15       0.60      0.86      0.71         7\n",
            "          16       0.50      0.50      0.50         4\n",
            "          17       0.00      0.00      0.00         1\n",
            "          18       0.67      1.00      0.80         2\n",
            "          19       0.00      0.00      0.00         1\n",
            "\n",
            "    accuracy                           0.47        79\n",
            "   macro avg       0.44      0.46      0.42        79\n",
            "weighted avg       0.50      0.47      0.44        79\n",
            "\n",
            "\n",
            "\n",
            "\n",
            "Метод главных компонент\n",
            "\n"
          ]
        },
        {
          "output_type": "stream",
          "name": "stderr",
          "text": [
            "/usr/local/lib/python3.7/dist-packages/sklearn/metrics/_classification.py:1272: UndefinedMetricWarning: Precision and F-score are ill-defined and being set to 0.0 in labels with no predicted samples. Use `zero_division` parameter to control this behavior.\n",
            "  _warn_prf(average, modifier, msg_start, len(result))\n",
            "/usr/local/lib/python3.7/dist-packages/sklearn/model_selection/_split.py:667: UserWarning: The least populated class in y has only 1 members, which is less than n_splits=5.\n",
            "  % (min_groups, self.n_splits)), UserWarning)\n"
          ]
        },
        {
          "output_type": "stream",
          "name": "stdout",
          "text": [
            "GridSearchCV - best estimator: DecisionTreeClassifier(ccp_alpha=0.0, class_weight=None, criterion='gini',\n",
            "                       max_depth=30, max_features=None, max_leaf_nodes=None,\n",
            "                       min_impurity_decrease=0.0, min_impurity_split=None,\n",
            "                       min_samples_leaf=1, min_samples_split=8,\n",
            "                       min_weight_fraction_leaf=0.0, presort='deprecated',\n",
            "                       random_state=None, splitter='best')\n",
            "best parameters: {'max_depth': 30, 'min_samples_split': 8}\n",
            "[[2 0 0 0 3 0 1 0 0 0 0 0 0 0 0 0]\n",
            " [1 0 0 0 0 0 0 0 0 0 0 0 0 0 0 0]\n",
            " [1 1 1 0 1 0 0 0 0 0 0 0 0 0 0 0]\n",
            " [0 0 1 0 1 0 0 0 0 0 0 0 0 0 0 0]\n",
            " [3 0 0 0 2 0 0 1 0 0 0 0 0 0 0 0]\n",
            " [1 1 0 0 1 0 0 1 0 0 0 0 0 0 0 0]\n",
            " [1 0 1 0 0 1 5 4 0 0 0 0 0 0 0 0]\n",
            " [0 0 0 0 0 0 2 5 0 1 0 0 0 0 0 0]\n",
            " [1 0 0 0 2 0 0 2 1 2 1 0 0 0 0 0]\n",
            " [1 0 0 0 0 0 0 0 0 1 0 1 1 0 0 0]\n",
            " [0 0 0 0 0 0 0 1 0 2 2 1 2 0 0 0]\n",
            " [0 0 0 0 0 0 0 1 0 0 1 4 1 0 0 0]\n",
            " [0 0 0 0 0 0 0 0 0 0 0 1 1 0 1 1]\n",
            " [0 0 0 0 0 0 0 0 0 0 0 0 0 0 1 0]\n",
            " [0 0 0 0 0 0 0 0 0 0 0 1 0 0 1 0]\n",
            " [0 0 0 0 0 0 0 0 0 0 1 0 0 0 0 0]]\n",
            "              precision    recall  f1-score   support\n",
            "\n",
            "           0       0.18      0.33      0.24         6\n",
            "           5       0.00      0.00      0.00         1\n",
            "           6       0.33      0.25      0.29         4\n",
            "           7       0.00      0.00      0.00         2\n",
            "           8       0.20      0.33      0.25         6\n",
            "           9       0.00      0.00      0.00         4\n",
            "          10       0.62      0.42      0.50        12\n",
            "          11       0.33      0.62      0.43         8\n",
            "          12       1.00      0.11      0.20         9\n",
            "          13       0.17      0.25      0.20         4\n",
            "          14       0.40      0.25      0.31         8\n",
            "          15       0.50      0.57      0.53         7\n",
            "          16       0.20      0.25      0.22         4\n",
            "          17       0.00      0.00      0.00         1\n",
            "          18       0.33      0.50      0.40         2\n",
            "          19       0.00      0.00      0.00         1\n",
            "\n",
            "    accuracy                           0.32        79\n",
            "   macro avg       0.27      0.24      0.22        79\n",
            "weighted avg       0.40      0.32      0.30        79\n",
            "\n",
            "\n",
            "\n",
            "\n",
            "Отбор на основе важности признаков\n",
            "\n",
            "GridSearchCV - best estimator: DecisionTreeClassifier(ccp_alpha=0.0, class_weight=None, criterion='gini',\n",
            "                       max_depth=5, max_features=None, max_leaf_nodes=None,\n",
            "                       min_impurity_decrease=0.0, min_impurity_split=None,\n",
            "                       min_samples_leaf=1, min_samples_split=2,\n",
            "                       min_weight_fraction_leaf=0.0, presort='deprecated',\n",
            "                       random_state=None, splitter='best')\n",
            "best parameters: {'max_depth': 5, 'min_samples_split': 2}\n",
            "[[6 0 0 0 0 0 0 0 0 0 0 0 0 0 0 0]\n",
            " [0 1 0 0 0 0 0 0 0 0 0 0 0 0 0 0]\n",
            " [0 0 2 0 2 0 0 0 0 0 0 0 0 0 0 0]\n",
            " [0 0 1 0 1 0 0 0 0 0 0 0 0 0 0 0]\n",
            " [1 0 0 0 2 1 2 0 0 0 0 0 0 0 0 0]\n",
            " [0 0 0 0 2 1 1 0 0 0 0 0 0 0 0 0]\n",
            " [2 0 0 0 1 2 5 2 0 0 0 0 0 0 0 0]\n",
            " [0 0 0 0 0 0 3 1 2 2 0 0 0 0 0 0]\n",
            " [0 0 0 0 0 0 0 1 4 4 0 0 0 0 0 0]\n",
            " [0 0 0 0 0 0 0 0 1 3 0 0 0 0 0 0]\n",
            " [0 0 0 0 0 0 0 0 0 4 2 2 0 0 0 0]\n",
            " [0 0 0 0 0 0 0 0 0 0 0 6 1 0 0 0]\n",
            " [0 0 0 0 0 0 0 0 0 0 0 2 2 0 0 0]\n",
            " [0 0 0 0 0 0 0 0 0 0 0 0 1 0 0 0]\n",
            " [0 0 0 0 0 0 0 0 0 0 0 0 0 0 2 0]\n",
            " [0 0 0 0 0 0 0 0 0 0 0 0 0 0 1 0]]\n",
            "              precision    recall  f1-score   support\n",
            "\n",
            "           0       0.67      1.00      0.80         6\n",
            "           5       1.00      1.00      1.00         1\n",
            "           6       0.67      0.50      0.57         4\n",
            "           7       0.00      0.00      0.00         2\n",
            "           8       0.25      0.33      0.29         6\n",
            "           9       0.25      0.25      0.25         4\n",
            "          10       0.45      0.42      0.43        12\n",
            "          11       0.25      0.12      0.17         8\n",
            "          12       0.57      0.44      0.50         9\n",
            "          13       0.23      0.75      0.35         4\n",
            "          14       1.00      0.25      0.40         8\n",
            "          15       0.60      0.86      0.71         7\n",
            "          16       0.50      0.50      0.50         4\n",
            "          17       0.00      0.00      0.00         1\n",
            "          18       0.67      1.00      0.80         2\n",
            "          19       0.00      0.00      0.00         1\n",
            "\n",
            "    accuracy                           0.47        79\n",
            "   macro avg       0.44      0.46      0.42        79\n",
            "weighted avg       0.50      0.47      0.44        79\n",
            "\n"
          ]
        },
        {
          "output_type": "stream",
          "name": "stderr",
          "text": [
            "/usr/local/lib/python3.7/dist-packages/sklearn/metrics/_classification.py:1272: UndefinedMetricWarning: Precision and F-score are ill-defined and being set to 0.0 in labels with no predicted samples. Use `zero_division` parameter to control this behavior.\n",
            "  _warn_prf(average, modifier, msg_start, len(result))\n",
            "/usr/local/lib/python3.7/dist-packages/sklearn/model_selection/_split.py:667: UserWarning: The least populated class in y has only 1 members, which is less than n_splits=5.\n",
            "  % (min_groups, self.n_splits)), UserWarning)\n",
            "/usr/local/lib/python3.7/dist-packages/sklearn/metrics/_classification.py:1272: UndefinedMetricWarning: Precision and F-score are ill-defined and being set to 0.0 in labels with no predicted samples. Use `zero_division` parameter to control this behavior.\n",
            "  _warn_prf(average, modifier, msg_start, len(result))\n"
          ]
        }
      ]
    },
    {
      "cell_type": "markdown",
      "metadata": {
        "id": "lWJpLq-1KFgv"
      },
      "source": [
        "#Support Vector Machines (SVM)"
      ]
    },
    {
      "cell_type": "code",
      "metadata": {
        "colab": {
          "base_uri": "https://localhost:8080/"
        },
        "id": "lVMHbdu2KGl-",
        "outputId": "ed550df0-abe6-445b-a344-2463e7032030"
      },
      "source": [
        "parameters_svm = {\n",
        "    'kernel': ['linear', 'rbf']\n",
        "}\n",
        "selections_features(model=svm.SVC, **parameters_svm)"
      ],
      "execution_count": 17,
      "outputs": [
        {
          "output_type": "stream",
          "name": "stdout",
          "text": [
            "Без отбора признаков\n",
            "\n",
            "GridSearchCV - best estimator: SVC(C=1.0, break_ties=False, cache_size=200, class_weight=None, coef0=0.0,\n",
            "    decision_function_shape='ovr', degree=3, gamma='scale', kernel='linear',\n",
            "    max_iter=-1, probability=False, random_state=None, shrinking=True,\n",
            "    tol=0.001, verbose=False)\n",
            "best parameters: {'kernel': 'linear'}\n",
            "[[4 0 0 1 0 0 1 0 0 0 0 0 0 0 0 0 0]\n",
            " [0 0 0 0 0 0 0 0 0 0 0 0 0 0 0 0 0]\n",
            " [0 0 0 0 1 0 0 0 0 0 0 0 0 0 0 0 0]\n",
            " [0 0 0 1 2 1 0 0 0 0 0 0 0 0 0 0 0]\n",
            " [0 0 0 0 0 1 1 0 0 0 0 0 0 0 0 0 0]\n",
            " [1 1 0 0 0 3 1 0 0 0 0 0 0 0 0 0 0]\n",
            " [0 0 0 0 1 0 1 1 1 0 0 0 0 0 0 0 0]\n",
            " [0 1 0 0 0 0 1 7 3 0 0 0 0 0 0 0 0]\n",
            " [0 0 0 0 0 1 0 0 4 0 3 0 0 0 0 0 0]\n",
            " [0 0 0 0 0 0 0 0 0 3 4 1 1 0 0 0 0]\n",
            " [0 0 0 0 0 0 0 0 0 1 1 2 0 0 0 0 0]\n",
            " [0 0 0 0 0 0 0 0 0 1 1 3 3 0 0 0 0]\n",
            " [0 0 0 0 0 0 0 0 0 0 0 2 5 0 0 0 0]\n",
            " [0 0 0 0 0 0 0 0 0 0 0 0 2 1 0 1 0]\n",
            " [0 0 0 0 0 0 0 0 0 0 0 0 0 0 0 1 0]\n",
            " [0 0 0 0 0 0 0 0 0 0 0 0 0 0 0 2 0]\n",
            " [0 0 0 0 0 0 0 0 0 0 0 0 0 0 0 1 0]]\n",
            "              precision    recall  f1-score   support\n",
            "\n",
            "           0       0.80      0.67      0.73         6\n",
            "           4       0.00      0.00      0.00         0\n",
            "           5       0.00      0.00      0.00         1\n",
            "           6       0.50      0.25      0.33         4\n",
            "           7       0.00      0.00      0.00         2\n",
            "           8       0.50      0.50      0.50         6\n",
            "           9       0.20      0.25      0.22         4\n",
            "          10       0.88      0.58      0.70        12\n",
            "          11       0.50      0.50      0.50         8\n",
            "          12       0.60      0.33      0.43         9\n",
            "          13       0.11      0.25      0.15         4\n",
            "          14       0.38      0.38      0.38         8\n",
            "          15       0.45      0.71      0.56         7\n",
            "          16       1.00      0.25      0.40         4\n",
            "          17       0.00      0.00      0.00         1\n",
            "          18       0.40      1.00      0.57         2\n",
            "          19       0.00      0.00      0.00         1\n",
            "\n",
            "    accuracy                           0.44        79\n",
            "   macro avg       0.37      0.33      0.32        79\n",
            "weighted avg       0.53      0.44      0.46        79\n",
            "\n",
            "\n",
            "\n",
            "\n",
            "Одномерный отбор признаков\n",
            "\n"
          ]
        },
        {
          "output_type": "stream",
          "name": "stderr",
          "text": [
            "/usr/local/lib/python3.7/dist-packages/sklearn/model_selection/_split.py:667: UserWarning: The least populated class in y has only 1 members, which is less than n_splits=5.\n",
            "  % (min_groups, self.n_splits)), UserWarning)\n",
            "/usr/local/lib/python3.7/dist-packages/sklearn/metrics/_classification.py:1272: UndefinedMetricWarning: Precision and F-score are ill-defined and being set to 0.0 in labels with no predicted samples. Use `zero_division` parameter to control this behavior.\n",
            "  _warn_prf(average, modifier, msg_start, len(result))\n",
            "/usr/local/lib/python3.7/dist-packages/sklearn/metrics/_classification.py:1272: UndefinedMetricWarning: Recall and F-score are ill-defined and being set to 0.0 in labels with no true samples. Use `zero_division` parameter to control this behavior.\n",
            "  _warn_prf(average, modifier, msg_start, len(result))\n",
            "/usr/local/lib/python3.7/dist-packages/sklearn/model_selection/_split.py:667: UserWarning: The least populated class in y has only 1 members, which is less than n_splits=5.\n",
            "  % (min_groups, self.n_splits)), UserWarning)\n"
          ]
        },
        {
          "output_type": "stream",
          "name": "stdout",
          "text": [
            "GridSearchCV - best estimator: SVC(C=1.0, break_ties=False, cache_size=200, class_weight=None, coef0=0.0,\n",
            "    decision_function_shape='ovr', degree=3, gamma='scale', kernel='rbf',\n",
            "    max_iter=-1, probability=False, random_state=None, shrinking=True,\n",
            "    tol=0.001, verbose=False)\n",
            "best parameters: {'kernel': 'rbf'}\n",
            "[[5 0 0 0 0 0 1 0 0 0 0 0 0 0 0 0]\n",
            " [1 0 0 0 0 0 0 0 0 0 0 0 0 0 0 0]\n",
            " [0 0 0 0 0 0 1 3 0 0 0 0 0 0 0 0]\n",
            " [0 0 0 0 1 0 1 0 0 0 0 0 0 0 0 0]\n",
            " [3 0 0 0 1 0 1 1 0 0 0 0 0 0 0 0]\n",
            " [1 0 0 0 0 0 2 1 0 0 0 0 0 0 0 0]\n",
            " [0 0 0 0 1 0 5 6 0 0 0 0 0 0 0 0]\n",
            " [0 0 0 0 1 0 0 6 0 1 0 0 0 0 0 0]\n",
            " [0 0 0 0 0 0 0 4 0 5 0 0 0 0 0 0]\n",
            " [0 0 0 0 0 0 0 1 0 3 0 0 0 0 0 0]\n",
            " [0 0 0 0 0 0 0 2 0 3 0 3 0 0 0 0]\n",
            " [0 0 0 0 0 0 0 0 0 1 0 6 0 0 0 0]\n",
            " [0 0 0 0 0 0 0 0 0 0 0 4 0 0 0 0]\n",
            " [0 0 0 0 0 0 0 0 0 0 0 1 0 0 0 0]\n",
            " [0 0 0 0 0 0 0 0 0 0 0 0 0 0 2 0]\n",
            " [0 0 0 0 0 0 0 0 0 0 0 0 0 0 1 0]]\n",
            "              precision    recall  f1-score   support\n",
            "\n",
            "           0       0.50      0.83      0.62         6\n",
            "           5       0.00      0.00      0.00         1\n",
            "           6       0.00      0.00      0.00         4\n",
            "           7       0.00      0.00      0.00         2\n",
            "           8       0.25      0.17      0.20         6\n",
            "           9       0.00      0.00      0.00         4\n",
            "          10       0.45      0.42      0.43        12\n",
            "          11       0.25      0.75      0.38         8\n",
            "          12       0.00      0.00      0.00         9\n",
            "          13       0.23      0.75      0.35         4\n",
            "          14       0.00      0.00      0.00         8\n",
            "          15       0.43      0.86      0.57         7\n",
            "          16       0.00      0.00      0.00         4\n",
            "          17       0.00      0.00      0.00         1\n",
            "          18       0.67      1.00      0.80         2\n",
            "          19       0.00      0.00      0.00         1\n",
            "\n",
            "    accuracy                           0.35        79\n",
            "   macro avg       0.17      0.30      0.21        79\n",
            "weighted avg       0.22      0.35      0.26        79\n",
            "\n",
            "\n",
            "\n",
            "\n",
            "Рекурсивное исключение признаков\n",
            "\n",
            "GridSearchCV - best estimator: SVC(C=1.0, break_ties=False, cache_size=200, class_weight=None, coef0=0.0,\n",
            "    decision_function_shape='ovr', degree=3, gamma='scale', kernel='rbf',\n",
            "    max_iter=-1, probability=False, random_state=None, shrinking=True,\n",
            "    tol=0.001, verbose=False)\n",
            "best parameters: {'kernel': 'rbf'}\n",
            "[[5 0 0 0 0 0 1 0 0 0 0 0 0 0 0 0]\n",
            " [0 0 1 0 0 0 0 0 0 0 0 0 0 0 0 0]\n",
            " [3 0 0 0 1 0 0 0 0 0 0 0 0 0 0 0]\n",
            " [1 0 0 0 1 0 0 0 0 0 0 0 0 0 0 0]\n",
            " [1 0 0 0 3 0 2 0 0 0 0 0 0 0 0 0]\n",
            " [1 0 0 0 0 0 3 0 0 0 0 0 0 0 0 0]\n",
            " [0 0 0 0 1 0 8 3 0 0 0 0 0 0 0 0]\n",
            " [0 0 0 0 1 0 0 6 0 1 0 0 0 0 0 0]\n",
            " [0 0 0 0 0 0 0 4 0 5 0 0 0 0 0 0]\n",
            " [0 0 0 0 0 0 0 1 0 3 0 0 0 0 0 0]\n",
            " [0 0 0 0 0 0 0 0 0 4 0 4 0 0 0 0]\n",
            " [0 0 0 0 0 0 0 0 0 1 0 6 0 0 0 0]\n",
            " [0 0 0 0 0 0 0 0 0 0 0 4 0 0 0 0]\n",
            " [0 0 0 0 0 0 0 0 0 0 0 1 0 0 0 0]\n",
            " [0 0 0 0 0 0 0 0 0 0 0 0 0 0 2 0]\n",
            " [0 0 0 0 0 0 0 0 0 0 0 0 0 0 1 0]]\n",
            "              precision    recall  f1-score   support\n",
            "\n",
            "           0       0.45      0.83      0.59         6\n",
            "           5       0.00      0.00      0.00         1\n",
            "           6       0.00      0.00      0.00         4\n",
            "           7       0.00      0.00      0.00         2\n",
            "           8       0.43      0.50      0.46         6\n",
            "           9       0.00      0.00      0.00         4\n",
            "          10       0.57      0.67      0.62        12\n",
            "          11       0.43      0.75      0.55         8\n",
            "          12       0.00      0.00      0.00         9\n",
            "          13       0.21      0.75      0.33         4\n",
            "          14       0.00      0.00      0.00         8\n",
            "          15       0.40      0.86      0.55         7\n",
            "          16       0.00      0.00      0.00         4\n",
            "          17       0.00      0.00      0.00         1\n",
            "          18       0.67      1.00      0.80         2\n",
            "          19       0.00      0.00      0.00         1\n",
            "\n",
            "    accuracy                           0.42        79\n",
            "   macro avg       0.20      0.33      0.24        79\n",
            "weighted avg       0.26      0.42      0.31        79\n",
            "\n",
            "\n",
            "\n",
            "\n",
            "Метод главных компонент\n",
            "\n",
            "GridSearchCV - best estimator: SVC(C=1.0, break_ties=False, cache_size=200, class_weight=None, coef0=0.0,\n",
            "    decision_function_shape='ovr', degree=3, gamma='scale', kernel='linear',\n",
            "    max_iter=-1, probability=False, random_state=None, shrinking=True,\n",
            "    tol=0.001, verbose=False)\n",
            "best parameters: {'kernel': 'linear'}\n",
            "[[5 0 0 0 0 0 0 1 0 0 0 0 0 0 0 0]\n",
            " [1 0 0 0 0 0 0 0 0 0 0 0 0 0 0 0]\n",
            " [2 0 0 0 0 0 1 1 0 0 0 0 0 0 0 0]\n",
            " [0 0 0 0 0 0 2 0 0 0 0 0 0 0 0 0]\n",
            " [2 0 0 0 0 0 3 1 0 0 0 0 0 0 0 0]\n",
            " [1 0 0 0 0 0 0 3 0 0 0 0 0 0 0 0]\n",
            " [3 0 0 0 0 0 5 3 0 0 0 1 0 0 0 0]\n",
            " [0 0 0 0 0 0 4 4 0 0 0 0 0 0 0 0]\n",
            " [1 0 0 0 0 0 2 5 0 0 0 1 0 0 0 0]\n",
            " [0 0 0 0 0 0 1 1 0 0 0 2 0 0 0 0]\n",
            " [0 0 0 0 0 0 0 4 0 1 0 3 0 0 0 0]\n",
            " [0 0 0 0 0 0 0 1 0 0 0 6 0 0 0 0]\n",
            " [0 0 0 0 0 0 0 0 0 0 0 4 0 0 0 0]\n",
            " [0 0 0 0 0 0 0 0 0 0 0 1 0 0 0 0]\n",
            " [0 0 0 0 0 0 0 0 0 0 0 2 0 0 0 0]\n",
            " [0 0 0 0 0 0 0 0 0 0 0 1 0 0 0 0]]\n",
            "              precision    recall  f1-score   support\n",
            "\n",
            "           0       0.33      0.83      0.48         6\n",
            "           5       0.00      0.00      0.00         1\n",
            "           6       0.00      0.00      0.00         4\n",
            "           7       0.00      0.00      0.00         2\n",
            "           8       0.00      0.00      0.00         6\n",
            "           9       0.00      0.00      0.00         4\n",
            "          10       0.28      0.42      0.33        12\n",
            "          11       0.17      0.50      0.25         8\n",
            "          12       0.00      0.00      0.00         9\n",
            "          13       0.00      0.00      0.00         4\n",
            "          14       0.00      0.00      0.00         8\n",
            "          15       0.29      0.86      0.43         7\n",
            "          16       0.00      0.00      0.00         4\n",
            "          17       0.00      0.00      0.00         1\n",
            "          18       0.00      0.00      0.00         2\n",
            "          19       0.00      0.00      0.00         1\n",
            "\n",
            "    accuracy                           0.25        79\n",
            "   macro avg       0.07      0.16      0.09        79\n",
            "weighted avg       0.11      0.25      0.15        79\n",
            "\n",
            "\n",
            "\n",
            "\n",
            "Отбор на основе важности признаков\n",
            "\n"
          ]
        },
        {
          "output_type": "stream",
          "name": "stderr",
          "text": [
            "/usr/local/lib/python3.7/dist-packages/sklearn/metrics/_classification.py:1272: UndefinedMetricWarning: Precision and F-score are ill-defined and being set to 0.0 in labels with no predicted samples. Use `zero_division` parameter to control this behavior.\n",
            "  _warn_prf(average, modifier, msg_start, len(result))\n",
            "/usr/local/lib/python3.7/dist-packages/sklearn/model_selection/_split.py:667: UserWarning: The least populated class in y has only 1 members, which is less than n_splits=5.\n",
            "  % (min_groups, self.n_splits)), UserWarning)\n",
            "/usr/local/lib/python3.7/dist-packages/sklearn/metrics/_classification.py:1272: UndefinedMetricWarning: Precision and F-score are ill-defined and being set to 0.0 in labels with no predicted samples. Use `zero_division` parameter to control this behavior.\n",
            "  _warn_prf(average, modifier, msg_start, len(result))\n",
            "/usr/local/lib/python3.7/dist-packages/sklearn/model_selection/_split.py:667: UserWarning: The least populated class in y has only 1 members, which is less than n_splits=5.\n",
            "  % (min_groups, self.n_splits)), UserWarning)\n",
            "/usr/local/lib/python3.7/dist-packages/sklearn/metrics/_classification.py:1272: UndefinedMetricWarning: Precision and F-score are ill-defined and being set to 0.0 in labels with no predicted samples. Use `zero_division` parameter to control this behavior.\n",
            "  _warn_prf(average, modifier, msg_start, len(result))\n",
            "/usr/local/lib/python3.7/dist-packages/sklearn/model_selection/_split.py:667: UserWarning: The least populated class in y has only 1 members, which is less than n_splits=5.\n",
            "  % (min_groups, self.n_splits)), UserWarning)\n"
          ]
        },
        {
          "output_type": "stream",
          "name": "stdout",
          "text": [
            "GridSearchCV - best estimator: SVC(C=1.0, break_ties=False, cache_size=200, class_weight=None, coef0=0.0,\n",
            "    decision_function_shape='ovr', degree=3, gamma='scale', kernel='rbf',\n",
            "    max_iter=-1, probability=False, random_state=None, shrinking=True,\n",
            "    tol=0.001, verbose=False)\n",
            "best parameters: {'kernel': 'rbf'}\n",
            "[[5 0 0 0 0 0 1 0 0 0 0 0 0 0 0 0]\n",
            " [0 0 1 0 0 0 0 0 0 0 0 0 0 0 0 0]\n",
            " [3 0 0 0 1 0 0 0 0 0 0 0 0 0 0 0]\n",
            " [1 0 0 0 1 0 0 0 0 0 0 0 0 0 0 0]\n",
            " [1 0 0 0 3 0 2 0 0 0 0 0 0 0 0 0]\n",
            " [1 0 0 0 0 0 3 0 0 0 0 0 0 0 0 0]\n",
            " [0 0 0 0 1 0 8 3 0 0 0 0 0 0 0 0]\n",
            " [0 0 0 0 1 0 0 6 0 1 0 0 0 0 0 0]\n",
            " [0 0 0 0 0 0 0 4 0 5 0 0 0 0 0 0]\n",
            " [0 0 0 0 0 0 0 1 0 3 0 0 0 0 0 0]\n",
            " [0 0 0 0 0 0 0 0 0 4 0 4 0 0 0 0]\n",
            " [0 0 0 0 0 0 0 0 0 1 0 6 0 0 0 0]\n",
            " [0 0 0 0 0 0 0 0 0 0 0 4 0 0 0 0]\n",
            " [0 0 0 0 0 0 0 0 0 0 0 1 0 0 0 0]\n",
            " [0 0 0 0 0 0 0 0 0 0 0 0 0 0 2 0]\n",
            " [0 0 0 0 0 0 0 0 0 0 0 0 0 0 1 0]]\n",
            "              precision    recall  f1-score   support\n",
            "\n",
            "           0       0.45      0.83      0.59         6\n",
            "           5       0.00      0.00      0.00         1\n",
            "           6       0.00      0.00      0.00         4\n",
            "           7       0.00      0.00      0.00         2\n",
            "           8       0.43      0.50      0.46         6\n",
            "           9       0.00      0.00      0.00         4\n",
            "          10       0.57      0.67      0.62        12\n",
            "          11       0.43      0.75      0.55         8\n",
            "          12       0.00      0.00      0.00         9\n",
            "          13       0.21      0.75      0.33         4\n",
            "          14       0.00      0.00      0.00         8\n",
            "          15       0.40      0.86      0.55         7\n",
            "          16       0.00      0.00      0.00         4\n",
            "          17       0.00      0.00      0.00         1\n",
            "          18       0.67      1.00      0.80         2\n",
            "          19       0.00      0.00      0.00         1\n",
            "\n",
            "    accuracy                           0.42        79\n",
            "   macro avg       0.20      0.33      0.24        79\n",
            "weighted avg       0.26      0.42      0.31        79\n",
            "\n"
          ]
        },
        {
          "output_type": "stream",
          "name": "stderr",
          "text": [
            "/usr/local/lib/python3.7/dist-packages/sklearn/metrics/_classification.py:1272: UndefinedMetricWarning: Precision and F-score are ill-defined and being set to 0.0 in labels with no predicted samples. Use `zero_division` parameter to control this behavior.\n",
            "  _warn_prf(average, modifier, msg_start, len(result))\n"
          ]
        }
      ]
    },
    {
      "cell_type": "markdown",
      "metadata": {
        "id": "RNLMeoOSKiGy"
      },
      "source": [
        "#Naive Bayes (NB)"
      ]
    },
    {
      "cell_type": "code",
      "metadata": {
        "colab": {
          "base_uri": "https://localhost:8080/"
        },
        "id": "V3VgNKskKs8g",
        "outputId": "f400eb9b-bdb4-412e-9dd9-937fbf1132b8"
      },
      "source": [
        "parameters_nb = {\n",
        "    'var_smoothing': [1e-10, 1e-9, 1e-8, 1e-5, 1e-2, 1e-1, 1, 10, 100]\n",
        "}\n",
        "selections_features(model=naive_bayes.GaussianNB, **parameters_nb)"
      ],
      "execution_count": 19,
      "outputs": [
        {
          "output_type": "stream",
          "name": "stdout",
          "text": [
            "Без отбора признаков\n",
            "\n",
            "GridSearchCV - best estimator: GaussianNB(priors=None, var_smoothing=0.01)\n",
            "best parameters: {'var_smoothing': 0.01}\n",
            "[[5 0 0 0 0 0 0 1 0 0 0 0 0 0 0 0]\n",
            " [0 1 0 0 0 0 0 0 0 0 0 0 0 0 0 0]\n",
            " [0 0 1 2 0 0 0 1 0 0 0 0 0 0 0 0]\n",
            " [0 1 1 0 0 0 0 0 0 0 0 0 0 0 0 0]\n",
            " [0 0 1 1 2 0 1 1 0 0 0 0 0 0 0 0]\n",
            " [0 0 0 1 0 0 0 3 0 0 0 0 0 0 0 0]\n",
            " [0 0 0 0 1 0 3 4 2 0 2 0 0 0 0 0]\n",
            " [0 0 0 0 0 1 0 3 0 2 2 0 0 0 0 0]\n",
            " [0 0 0 0 0 0 0 1 1 1 6 0 0 0 0 0]\n",
            " [0 0 0 0 0 0 0 0 1 0 3 0 0 0 0 0]\n",
            " [0 0 0 0 0 0 0 1 0 0 7 0 0 0 0 0]\n",
            " [0 0 0 0 0 0 0 0 0 0 1 0 6 0 0 0]\n",
            " [0 0 0 0 0 0 0 0 0 0 0 0 4 0 0 0]\n",
            " [0 0 0 0 0 0 0 0 0 0 0 0 1 0 0 0]\n",
            " [0 0 0 0 0 0 0 0 0 0 0 0 0 0 1 1]\n",
            " [0 0 0 0 0 0 0 0 0 0 0 0 0 0 1 0]]\n",
            "              precision    recall  f1-score   support\n",
            "\n",
            "           0       1.00      0.83      0.91         6\n",
            "           5       0.50      1.00      0.67         1\n",
            "           6       0.33      0.25      0.29         4\n",
            "           7       0.00      0.00      0.00         2\n",
            "           8       0.67      0.33      0.44         6\n",
            "           9       0.00      0.00      0.00         4\n",
            "          10       0.75      0.25      0.38        12\n",
            "          11       0.20      0.38      0.26         8\n",
            "          12       0.25      0.11      0.15         9\n",
            "          13       0.00      0.00      0.00         4\n",
            "          14       0.33      0.88      0.48         8\n",
            "          15       0.00      0.00      0.00         7\n",
            "          16       0.36      1.00      0.53         4\n",
            "          17       0.00      0.00      0.00         1\n",
            "          18       0.50      0.50      0.50         2\n",
            "          19       0.00      0.00      0.00         1\n",
            "\n",
            "    accuracy                           0.35        79\n",
            "   macro avg       0.31      0.35      0.29        79\n",
            "weighted avg       0.38      0.35      0.32        79\n",
            "\n",
            "\n",
            "\n",
            "\n",
            "Одномерный отбор признаков\n",
            "\n"
          ]
        },
        {
          "output_type": "stream",
          "name": "stderr",
          "text": [
            "/usr/local/lib/python3.7/dist-packages/sklearn/model_selection/_split.py:667: UserWarning: The least populated class in y has only 1 members, which is less than n_splits=5.\n",
            "  % (min_groups, self.n_splits)), UserWarning)\n",
            "/usr/local/lib/python3.7/dist-packages/sklearn/metrics/_classification.py:1272: UndefinedMetricWarning: Precision and F-score are ill-defined and being set to 0.0 in labels with no predicted samples. Use `zero_division` parameter to control this behavior.\n",
            "  _warn_prf(average, modifier, msg_start, len(result))\n",
            "/usr/local/lib/python3.7/dist-packages/sklearn/model_selection/_split.py:667: UserWarning: The least populated class in y has only 1 members, which is less than n_splits=5.\n",
            "  % (min_groups, self.n_splits)), UserWarning)\n"
          ]
        },
        {
          "output_type": "stream",
          "name": "stdout",
          "text": [
            "GridSearchCV - best estimator: GaussianNB(priors=None, var_smoothing=0.01)\n",
            "best parameters: {'var_smoothing': 0.01}\n",
            "[[5 0 0 0 0 0 1 0 0 0 0 0 0 0 0 0]\n",
            " [1 0 0 0 0 0 0 0 0 0 0 0 0 0 0 0]\n",
            " [0 0 3 0 1 0 0 0 0 0 0 0 0 0 0 0]\n",
            " [0 0 2 0 0 0 0 0 0 0 0 0 0 0 0 0]\n",
            " [1 0 1 0 3 0 0 1 0 0 0 0 0 0 0 0]\n",
            " [0 0 0 1 0 1 1 1 0 0 0 0 0 0 0 0]\n",
            " [0 0 0 1 1 1 2 7 0 0 0 0 0 0 0 0]\n",
            " [0 0 0 0 0 0 2 3 0 0 3 0 0 0 0 0]\n",
            " [0 0 0 0 0 0 1 1 0 1 6 0 0 0 0 0]\n",
            " [0 0 0 0 0 0 0 0 0 0 4 0 0 0 0 0]\n",
            " [0 0 0 0 0 0 0 1 0 0 7 0 0 0 0 0]\n",
            " [0 0 0 0 0 0 0 0 0 0 1 0 6 0 0 0]\n",
            " [0 0 0 0 0 0 0 0 0 0 0 0 4 0 0 0]\n",
            " [0 0 0 0 0 0 0 0 0 0 0 0 1 0 0 0]\n",
            " [0 0 0 0 0 0 0 0 0 0 0 0 0 0 1 1]\n",
            " [0 0 0 0 0 0 0 0 0 0 0 0 0 0 0 1]]\n",
            "              precision    recall  f1-score   support\n",
            "\n",
            "           0       0.71      0.83      0.77         6\n",
            "           5       0.00      0.00      0.00         1\n",
            "           6       0.50      0.75      0.60         4\n",
            "           7       0.00      0.00      0.00         2\n",
            "           8       0.60      0.50      0.55         6\n",
            "           9       0.50      0.25      0.33         4\n",
            "          10       0.29      0.17      0.21        12\n",
            "          11       0.21      0.38      0.27         8\n",
            "          12       0.00      0.00      0.00         9\n",
            "          13       0.00      0.00      0.00         4\n",
            "          14       0.33      0.88      0.48         8\n",
            "          15       0.00      0.00      0.00         7\n",
            "          16       0.36      1.00      0.53         4\n",
            "          17       0.00      0.00      0.00         1\n",
            "          18       1.00      0.50      0.67         2\n",
            "          19       0.50      1.00      0.67         1\n",
            "\n",
            "    accuracy                           0.38        79\n",
            "   macro avg       0.31      0.39      0.32        79\n",
            "weighted avg       0.30      0.38      0.31        79\n",
            "\n",
            "\n",
            "\n",
            "\n",
            "Рекурсивное исключение признаков\n",
            "\n",
            "GridSearchCV - best estimator: GaussianNB(priors=None, var_smoothing=1e-05)\n",
            "best parameters: {'var_smoothing': 1e-05}\n",
            "[[6 0 0 0 0 0 0 0 0 0 0 0 0 0 0 0]\n",
            " [0 1 0 0 0 0 0 0 0 0 0 0 0 0 0 0]\n",
            " [0 2 0 0 2 0 0 0 0 0 0 0 0 0 0 0]\n",
            " [0 0 2 0 0 0 0 0 0 0 0 0 0 0 0 0]\n",
            " [1 0 0 0 3 0 2 0 0 0 0 0 0 0 0 0]\n",
            " [0 0 0 0 1 1 2 0 0 0 0 0 0 0 0 0]\n",
            " [2 0 0 0 1 0 6 2 1 0 0 0 0 0 0 0]\n",
            " [0 0 0 0 1 0 0 4 2 1 0 0 0 0 0 0]\n",
            " [0 0 0 0 0 0 0 1 4 3 1 0 0 0 0 0]\n",
            " [0 0 0 0 0 0 0 0 0 4 0 0 0 0 0 0]\n",
            " [0 0 0 0 0 0 0 0 0 4 1 3 0 0 0 0]\n",
            " [0 0 0 0 0 0 0 0 0 0 1 5 0 1 0 0]\n",
            " [0 0 0 0 0 0 0 0 0 0 0 2 1 1 0 0]\n",
            " [0 0 0 0 0 0 0 0 0 0 0 0 1 0 0 0]\n",
            " [0 0 0 0 0 0 0 0 0 0 0 0 0 0 2 0]\n",
            " [0 0 0 0 0 0 0 0 0 0 0 0 0 0 0 1]]\n",
            "              precision    recall  f1-score   support\n",
            "\n",
            "           0       0.67      1.00      0.80         6\n",
            "           5       0.33      1.00      0.50         1\n",
            "           6       0.00      0.00      0.00         4\n",
            "           7       0.00      0.00      0.00         2\n",
            "           8       0.38      0.50      0.43         6\n",
            "           9       1.00      0.25      0.40         4\n",
            "          10       0.60      0.50      0.55        12\n",
            "          11       0.57      0.50      0.53         8\n",
            "          12       0.57      0.44      0.50         9\n",
            "          13       0.33      1.00      0.50         4\n",
            "          14       0.33      0.12      0.18         8\n",
            "          15       0.50      0.71      0.59         7\n",
            "          16       0.50      0.25      0.33         4\n",
            "          17       0.00      0.00      0.00         1\n",
            "          18       1.00      1.00      1.00         2\n",
            "          19       1.00      1.00      1.00         1\n",
            "\n",
            "    accuracy                           0.49        79\n",
            "   macro avg       0.49      0.52      0.46        79\n",
            "weighted avg       0.51      0.49      0.46        79\n",
            "\n",
            "\n",
            "\n",
            "\n",
            "Метод главных компонент\n",
            "\n"
          ]
        },
        {
          "output_type": "stream",
          "name": "stderr",
          "text": [
            "/usr/local/lib/python3.7/dist-packages/sklearn/metrics/_classification.py:1272: UndefinedMetricWarning: Precision and F-score are ill-defined and being set to 0.0 in labels with no predicted samples. Use `zero_division` parameter to control this behavior.\n",
            "  _warn_prf(average, modifier, msg_start, len(result))\n",
            "/usr/local/lib/python3.7/dist-packages/sklearn/model_selection/_split.py:667: UserWarning: The least populated class in y has only 1 members, which is less than n_splits=5.\n",
            "  % (min_groups, self.n_splits)), UserWarning)\n",
            "/usr/local/lib/python3.7/dist-packages/sklearn/metrics/_classification.py:1272: UndefinedMetricWarning: Precision and F-score are ill-defined and being set to 0.0 in labels with no predicted samples. Use `zero_division` parameter to control this behavior.\n",
            "  _warn_prf(average, modifier, msg_start, len(result))\n",
            "/usr/local/lib/python3.7/dist-packages/sklearn/model_selection/_split.py:667: UserWarning: The least populated class in y has only 1 members, which is less than n_splits=5.\n",
            "  % (min_groups, self.n_splits)), UserWarning)\n"
          ]
        },
        {
          "output_type": "stream",
          "name": "stdout",
          "text": [
            "GridSearchCV - best estimator: GaussianNB(priors=None, var_smoothing=0.1)\n",
            "best parameters: {'var_smoothing': 0.1}\n",
            "[[2 0 0 1 0 0 2 1 0 0 0 0 0 0 0 0]\n",
            " [1 0 0 0 0 0 0 0 0 0 0 0 0 0 0 0]\n",
            " [2 0 0 0 0 0 1 1 0 0 0 0 0 0 0 0]\n",
            " [1 0 0 0 0 0 0 1 0 0 0 0 0 0 0 0]\n",
            " [1 0 0 1 0 0 2 2 0 0 0 0 0 0 0 0]\n",
            " [1 0 0 0 0 0 2 1 0 0 0 0 0 0 0 0]\n",
            " [2 0 0 0 0 0 3 6 0 0 0 1 0 0 0 0]\n",
            " [0 0 0 0 0 0 2 6 0 0 0 0 0 0 0 0]\n",
            " [1 0 0 0 0 0 0 5 1 1 0 1 0 0 0 0]\n",
            " [0 0 0 0 0 0 1 3 0 0 0 0 0 0 0 0]\n",
            " [0 0 0 0 0 0 0 4 1 0 0 3 0 0 0 0]\n",
            " [0 0 0 0 0 0 0 2 0 0 0 5 0 0 0 0]\n",
            " [0 0 0 0 0 0 0 0 0 1 0 3 0 0 0 0]\n",
            " [0 0 0 0 0 0 0 0 0 0 0 1 0 0 0 0]\n",
            " [0 0 0 0 0 0 0 0 0 0 0 2 0 0 0 0]\n",
            " [0 0 0 0 0 0 0 0 0 0 0 1 0 0 0 0]]\n",
            "              precision    recall  f1-score   support\n",
            "\n",
            "           0       0.18      0.33      0.24         6\n",
            "           5       0.00      0.00      0.00         1\n",
            "           6       0.00      0.00      0.00         4\n",
            "           7       0.00      0.00      0.00         2\n",
            "           8       0.00      0.00      0.00         6\n",
            "           9       0.00      0.00      0.00         4\n",
            "          10       0.23      0.25      0.24        12\n",
            "          11       0.19      0.75      0.30         8\n",
            "          12       0.50      0.11      0.18         9\n",
            "          13       0.00      0.00      0.00         4\n",
            "          14       0.00      0.00      0.00         8\n",
            "          15       0.29      0.71      0.42         7\n",
            "          16       0.00      0.00      0.00         4\n",
            "          17       0.00      0.00      0.00         1\n",
            "          18       0.00      0.00      0.00         2\n",
            "          19       0.00      0.00      0.00         1\n",
            "\n",
            "    accuracy                           0.22        79\n",
            "   macro avg       0.09      0.13      0.09        79\n",
            "weighted avg       0.15      0.22      0.14        79\n",
            "\n",
            "\n",
            "\n",
            "\n",
            "Отбор на основе важности признаков\n",
            "\n",
            "GridSearchCV - best estimator: GaussianNB(priors=None, var_smoothing=1e-05)\n",
            "best parameters: {'var_smoothing': 1e-05}\n",
            "[[6 0 0 0 0 0 0 0 0 0 0 0 0 0 0 0]\n",
            " [0 1 0 0 0 0 0 0 0 0 0 0 0 0 0 0]\n",
            " [0 2 0 0 2 0 0 0 0 0 0 0 0 0 0 0]\n",
            " [0 0 2 0 0 0 0 0 0 0 0 0 0 0 0 0]\n",
            " [1 0 0 0 3 0 2 0 0 0 0 0 0 0 0 0]\n",
            " [0 0 0 0 1 1 2 0 0 0 0 0 0 0 0 0]\n",
            " [2 0 0 0 1 0 6 2 1 0 0 0 0 0 0 0]\n",
            " [0 0 0 0 1 0 0 4 2 1 0 0 0 0 0 0]\n",
            " [0 0 0 0 0 0 0 1 4 3 1 0 0 0 0 0]\n",
            " [0 0 0 0 0 0 0 0 0 4 0 0 0 0 0 0]\n",
            " [0 0 0 0 0 0 0 0 0 4 1 3 0 0 0 0]\n",
            " [0 0 0 0 0 0 0 0 0 0 1 5 0 1 0 0]\n",
            " [0 0 0 0 0 0 0 0 0 0 0 2 1 1 0 0]\n",
            " [0 0 0 0 0 0 0 0 0 0 0 0 1 0 0 0]\n",
            " [0 0 0 0 0 0 0 0 0 0 0 0 0 0 2 0]\n",
            " [0 0 0 0 0 0 0 0 0 0 0 0 0 0 0 1]]\n",
            "              precision    recall  f1-score   support\n",
            "\n",
            "           0       0.67      1.00      0.80         6\n",
            "           5       0.33      1.00      0.50         1\n",
            "           6       0.00      0.00      0.00         4\n",
            "           7       0.00      0.00      0.00         2\n",
            "           8       0.38      0.50      0.43         6\n",
            "           9       1.00      0.25      0.40         4\n",
            "          10       0.60      0.50      0.55        12\n",
            "          11       0.57      0.50      0.53         8\n",
            "          12       0.57      0.44      0.50         9\n",
            "          13       0.33      1.00      0.50         4\n",
            "          14       0.33      0.12      0.18         8\n",
            "          15       0.50      0.71      0.59         7\n",
            "          16       0.50      0.25      0.33         4\n",
            "          17       0.00      0.00      0.00         1\n",
            "          18       1.00      1.00      1.00         2\n",
            "          19       1.00      1.00      1.00         1\n",
            "\n",
            "    accuracy                           0.49        79\n",
            "   macro avg       0.49      0.52      0.46        79\n",
            "weighted avg       0.51      0.49      0.46        79\n",
            "\n"
          ]
        },
        {
          "output_type": "stream",
          "name": "stderr",
          "text": [
            "/usr/local/lib/python3.7/dist-packages/sklearn/metrics/_classification.py:1272: UndefinedMetricWarning: Precision and F-score are ill-defined and being set to 0.0 in labels with no predicted samples. Use `zero_division` parameter to control this behavior.\n",
            "  _warn_prf(average, modifier, msg_start, len(result))\n",
            "/usr/local/lib/python3.7/dist-packages/sklearn/model_selection/_split.py:667: UserWarning: The least populated class in y has only 1 members, which is less than n_splits=5.\n",
            "  % (min_groups, self.n_splits)), UserWarning)\n",
            "/usr/local/lib/python3.7/dist-packages/sklearn/metrics/_classification.py:1272: UndefinedMetricWarning: Precision and F-score are ill-defined and being set to 0.0 in labels with no predicted samples. Use `zero_division` parameter to control this behavior.\n",
            "  _warn_prf(average, modifier, msg_start, len(result))\n"
          ]
        }
      ]
    },
    {
      "cell_type": "markdown",
      "metadata": {
        "id": "JbHKOjTlNNeo"
      },
      "source": [
        "#Вывод"
      ]
    },
    {
      "cell_type": "markdown",
      "metadata": {
        "id": "fKb446cwNPKm"
      },
      "source": [
        "В данной работе были применены четыре предложенных метода отбора признаков  к своим данным для классификации. Оценено качество работы двух алгоритмов классификации на этих данных до и после отбора признаков."
      ]
    }
  ]
}