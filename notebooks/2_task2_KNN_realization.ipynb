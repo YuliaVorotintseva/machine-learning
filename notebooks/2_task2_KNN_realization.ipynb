{
 "cells": [
  {
   "cell_type": "code",
   "execution_count": 117,
   "metadata": {},
   "outputs": [],
   "source": [
    "import pandas as pd\n",
    "import numpy as np"
   ]
  },
  {
   "cell_type": "markdown",
   "metadata": {},
   "source": [
    "# Реализация KNN"
   ]
  },
  {
   "cell_type": "code",
   "execution_count": 118,
   "metadata": {},
   "outputs": [],
   "source": [
    "class KNN:\n",
    "    def __init__(self):\n",
    "        pass\n",
    "    \n",
    "    def fit(self, X_train, y_train):\n",
    "        self.X_train = X_train\n",
    "        self.y_train = y_train\n",
    "        pass\n",
    "    \n",
    "    def predict(self, X_test, n_neighbors=5):\n",
    "        y_pred = np.array([])\n",
    "        \n",
    "        for x in X_test:\n",
    "            dists = [(np.sum((x - self.X_train[i])**2)**0.5, self.y_train[i]) for i in range(len(self.X_train))]\n",
    "            \n",
    "            # Сортировка массива пар (расстояние, у) по 1-му элементу - расстоянию\n",
    "            dists.sort(key=lambda x: x[0])\n",
    "            \n",
    "            if n_neighbors > self.X_train.shape[0]:\n",
    "                n_neighbors = self.X_train.shape[0]\n",
    "                \n",
    "            neighbors = [n[1] for n in dists[:n_neighbors]]\n",
    "            y_dict = {}\n",
    "            max_value = 0\n",
    "            y_cur = neighbors[0]\n",
    "            \n",
    "            for n in neighbors:\n",
    "                prev_value = y_dict.setdefault(n, 0)\n",
    "                y_dict[n] = prev_value + 1\n",
    "                \n",
    "                if max_value <= prev_value:\n",
    "                    max_value = prev_value + 1\n",
    "                    y_cur = n\n",
    "                    \n",
    "            y_pred = np.append(y_pred, y_cur)\n",
    "        return y_pred"
   ]
  }
 ],
 "metadata": {
  "kernelspec": {
   "display_name": "Python 3",
   "language": "python",
   "name": "python3"
  },
  "language_info": {
   "codemirror_mode": {
    "name": "ipython",
    "version": 3
   },
   "file_extension": ".py",
   "mimetype": "text/x-python",
   "name": "python",
   "nbconvert_exporter": "python",
   "pygments_lexer": "ipython3",
   "version": "3.8.5"
  }
 },
 "nbformat": 4,
 "nbformat_minor": 4
}
