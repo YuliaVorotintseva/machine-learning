{
 "cells": [
  {
   "cell_type": "code",
   "execution_count": 1,
   "metadata": {},
   "outputs": [],
   "source": [
    "import numpy as np\n",
    "import pandas as pd\n",
    "from datetime import date"
   ]
  },
  {
   "cell_type": "code",
   "execution_count": 3,
   "metadata": {},
   "outputs": [],
   "source": [
    "def load_data(filename):\n",
    "    return pd.read_csv(filename, sep = ',', parse_dates=['Date'])"
   ]
  },
  {
   "cell_type": "code",
   "execution_count": 2,
   "metadata": {},
   "outputs": [],
   "source": [
    "def prepared_data(df):\n",
    "    # Уберем столбцы, где более половины значений отсутствуют\n",
    "    na_50 = np.where(df.isna().sum() > len(df) / 2)\n",
    "    cols_na_50 = df.columns[na_50]\n",
    "    df = df.drop(cols_na_50, axis=1)\n",
    "    \n",
    "    # В большинство колонок типа object недостающие значения\n",
    "    # можно заполнить как Undefined типа string\n",
    "    obj_names = df.columns[np.where(df.dtypes == 'object')]\n",
    "    \n",
    "    # Столбец Date является типом дата\n",
    "    # Недостающие значения можно заполнить текущей датой\n",
    "    df.Date = pd.to_datetime(df.Date.astype('datetime64'))\n",
    "    if df.Date.isna().sum() != 0:\n",
    "        df['Date'] = df['Date'].fillna(date.today()).astype('datetime64')\n",
    "    \n",
    "    # Заполнение и преобразование строковых значений\n",
    "    df[obj_names] = df[obj_names].fillna('Undefined').astype('string')\n",
    "    \n",
    "    # Обработка бинарных признаков\n",
    "    bin_values = []\n",
    "    for col in df.columns:\n",
    "        if len(np.array(df[col].unique())) <= 3: # True, False, Undefined\n",
    "            bin_values.append(col)\n",
    "    \n",
    "    mapping = {\n",
    "        'No': 0,\n",
    "        'Yes': 1,\n",
    "        'Undefined': 0\n",
    "    }\n",
    "\n",
    "    for val in bin_values:\n",
    "        df[val] = df[val].map(mapping)\n",
    "        \n",
    "    # Обработка категориальных признаков\n",
    "    # Если в столбце более 15 значений - удаляем\n",
    "    string_cols = df.columns[np.where(df.dtypes == 'string')]\n",
    "    drop_values = []\n",
    "    dummies_values = []\n",
    "\n",
    "    for col in string_cols:\n",
    "        if len(df[col].unique()) > 15:\n",
    "            drop_values.append(col)\n",
    "        else:\n",
    "            dummies_values.append(col)\n",
    "            \n",
    "    df = df.drop(drop_values, axis=1)\n",
    "    df = pd.get_dummies(df, columns=dummies_values)\n",
    "    \n",
    "    # Заполнение оставшихся пропусков средними значениями\n",
    "    df = df.fillna(df.mean(numeric_only=True))\n",
    "    \n",
    "    return df"
   ]
  },
  {
   "cell_type": "code",
   "execution_count": null,
   "metadata": {},
   "outputs": [],
   "source": [
    "students_df = load_data('../data/students.csv')\n",
    "students_df = prepared_data(students_df)"
   ]
  }
 ],
 "metadata": {
  "kernelspec": {
   "display_name": "Python 3",
   "language": "python",
   "name": "python3"
  },
  "language_info": {
   "codemirror_mode": {
    "name": "ipython",
    "version": 3
   },
   "file_extension": ".py",
   "mimetype": "text/x-python",
   "name": "python",
   "nbconvert_exporter": "python",
   "pygments_lexer": "ipython3",
   "version": "3.8.5"
  }
 },
 "nbformat": 4,
 "nbformat_minor": 4
}
